{
 "cells": [
  {
   "cell_type": "code",
   "execution_count": 1,
   "metadata": {
    "collapsed": true
   },
   "outputs": [],
   "source": [
    "import pandas as pd\n",
    "import numpy as np\n",
    "import seaborn as sns\n",
    "import matplotlib.pyplot as plt\n",
    "from sklearn.preprocessing import StandardScaler, LabelEncoder\n",
    "from sklearn.model_selection import train_test_split, GridSearchCV\n",
    "from sklearn.tree import DecisionTreeClassifier\n",
    "from sklearn.ensemble import RandomForestClassifier\n",
    "from sklearn.linear_model import LogisticRegression, LogisticRegressionCV\n",
    "from sklearn.model_selection import GridSearchCV\n",
    "from sklearn.model_selection import cross_val_score, KFold\n",
    "from sklearn.model_selection import learning_curve\n",
    "from sklearn.model_selection import validation_curve\n",
    "from sklearn.metrics import auc, make_scorer, roc_auc_score\n",
    "from geopy.distance import vincenty\n",
    "from sklearn.neighbors import KNeighborsClassifier\n",
    "from sklearn.metrics import mean_absolute_error, mean_squared_error\n",
    "import xgboost as xgb\n",
    "import pickle\n",
    "\n",
    "from hyperopt import hp\n",
    "from hyperopt import fmin, tpe, hp, STATUS_OK, Trials\n",
    "\n",
    "import tqdm\n",
    "import time\n",
    "\n",
    "sns.set_context(\"notebook\")\n",
    "plt.style.use('ggplot')\n",
    "plt.rcParams['figure.figsize']=(10,5)\n",
    "%matplotlib inline"
   ]
  },
  {
   "cell_type": "code",
   "execution_count": 2,
   "metadata": {
    "collapsed": true
   },
   "outputs": [],
   "source": [
    "data_train = pd.read_csv('CAX_TrainingData_McK.csv')\n",
    "data_test = pd.read_csv('CAX_TestData_McK.csv')"
   ]
  },
  {
   "cell_type": "code",
   "execution_count": 3,
   "metadata": {
    "scrolled": true
   },
   "outputs": [
    {
     "data": {
      "text/html": [
       "<div>\n",
       "<style>\n",
       "    .dataframe thead tr:only-child th {\n",
       "        text-align: right;\n",
       "    }\n",
       "\n",
       "    .dataframe thead th {\n",
       "        text-align: left;\n",
       "    }\n",
       "\n",
       "    .dataframe tbody tr th {\n",
       "        vertical-align: top;\n",
       "    }\n",
       "</style>\n",
       "<table border=\"1\" class=\"dataframe\">\n",
       "  <thead>\n",
       "    <tr style=\"text-align: right;\">\n",
       "      <th></th>\n",
       "      <th>offer_gk</th>\n",
       "      <th>weekday_key</th>\n",
       "      <th>hour_key</th>\n",
       "      <th>driver_gk</th>\n",
       "      <th>order_gk</th>\n",
       "      <th>driver_latitude</th>\n",
       "      <th>driver_longitude</th>\n",
       "      <th>origin_order_latitude</th>\n",
       "      <th>origin_order_longitude</th>\n",
       "      <th>distance_km</th>\n",
       "      <th>duration_min</th>\n",
       "      <th>offer_class_group</th>\n",
       "      <th>ride_type_desc</th>\n",
       "      <th>driver_response</th>\n",
       "    </tr>\n",
       "  </thead>\n",
       "  <tbody>\n",
       "    <tr>\n",
       "      <th>0</th>\n",
       "      <td>1105373</td>\n",
       "      <td>5</td>\n",
       "      <td>20</td>\n",
       "      <td>6080</td>\n",
       "      <td>174182</td>\n",
       "      <td>55.818842</td>\n",
       "      <td>37.334562</td>\n",
       "      <td>55.814567</td>\n",
       "      <td>37.355010</td>\n",
       "      <td>-1.000</td>\n",
       "      <td>-1.000</td>\n",
       "      <td>Economy</td>\n",
       "      <td>private</td>\n",
       "      <td>0</td>\n",
       "    </tr>\n",
       "    <tr>\n",
       "      <th>1</th>\n",
       "      <td>759733</td>\n",
       "      <td>5</td>\n",
       "      <td>14</td>\n",
       "      <td>6080</td>\n",
       "      <td>358774</td>\n",
       "      <td>55.805342</td>\n",
       "      <td>37.515023</td>\n",
       "      <td>55.819329</td>\n",
       "      <td>37.466398</td>\n",
       "      <td>18.802</td>\n",
       "      <td>25.217</td>\n",
       "      <td>Standard</td>\n",
       "      <td>private</td>\n",
       "      <td>1</td>\n",
       "    </tr>\n",
       "  </tbody>\n",
       "</table>\n",
       "</div>"
      ],
      "text/plain": [
       "   offer_gk  weekday_key  hour_key  driver_gk  order_gk  driver_latitude  \\\n",
       "0   1105373            5        20       6080    174182        55.818842   \n",
       "1    759733            5        14       6080    358774        55.805342   \n",
       "\n",
       "   driver_longitude  origin_order_latitude  origin_order_longitude  \\\n",
       "0         37.334562              55.814567               37.355010   \n",
       "1         37.515023              55.819329               37.466398   \n",
       "\n",
       "   distance_km  duration_min offer_class_group ride_type_desc  driver_response  \n",
       "0       -1.000        -1.000           Economy        private                0  \n",
       "1       18.802        25.217          Standard        private                1  "
      ]
     },
     "execution_count": 3,
     "metadata": {},
     "output_type": "execute_result"
    }
   ],
   "source": [
    "data_train.head(2)"
   ]
  },
  {
   "cell_type": "markdown",
   "metadata": {},
   "source": [
    "Убираем пропуски для трейна"
   ]
  },
  {
   "cell_type": "code",
   "execution_count": 4,
   "metadata": {},
   "outputs": [
    {
     "data": {
      "text/plain": [
       "((892557, 14), (892379, 2), (889776, 2))"
      ]
     },
     "execution_count": 4,
     "metadata": {},
     "output_type": "execute_result"
    }
   ],
   "source": [
    "data_train_copy = data_train.copy()\n",
    "geocolumns = data_train.loc[:, 'driver_latitude':'origin_order_longitude'].columns\n",
    "for column in geocolumns:\n",
    "    data_train_copy[column].replace(-1, np.nan, inplace = True)\n",
    "    data_train_copy[column].replace(0, np.nan, inplace = True)\n",
    "data_origin_train = data_train_copy.loc[:, ['origin_order_latitude', 'origin_order_longitude']]\n",
    "data_driver_train = data_train_copy.loc[:, ['driver_latitude', 'driver_longitude']]\n",
    "data_origin_train.dropna(inplace = True)\n",
    "data_driver_train.dropna(inplace = True)\n",
    "data_train_copy.shape, data_origin_train.shape, data_driver_train.shape"
   ]
  },
  {
   "cell_type": "markdown",
   "metadata": {},
   "source": [
    "Убираем пропуски для теста"
   ]
  },
  {
   "cell_type": "code",
   "execution_count": 5,
   "metadata": {},
   "outputs": [
    {
     "data": {
      "text/plain": [
       "((237813, 14), (237767, 2), (236929, 2))"
      ]
     },
     "execution_count": 5,
     "metadata": {},
     "output_type": "execute_result"
    }
   ],
   "source": [
    "data_test_copy = data_test.copy()\n",
    "geocolumns = data_test.loc[:, 'driver_latitude':'origin_order_longitude'].columns\n",
    "for column in geocolumns:\n",
    "    data_test_copy[column].replace(-1, np.nan, inplace = True)\n",
    "    data_test_copy[column].replace(0, np.nan, inplace = True)\n",
    "data_origin_test = data_test_copy.loc[:, ['origin_order_latitude', 'origin_order_longitude']]\n",
    "data_driver_test = data_test_copy.loc[:, ['driver_latitude', 'driver_longitude']]\n",
    "data_origin_test.dropna(inplace = True)\n",
    "data_driver_test.dropna(inplace = True)\n",
    "data_test_copy.shape, data_origin_test.shape, data_driver_test.shape"
   ]
  },
  {
   "cell_type": "code",
   "execution_count": 6,
   "metadata": {
    "collapsed": true
   },
   "outputs": [],
   "source": [
    "data1 = pd.read_csv('10k_w_districts_1.csv', encoding = 'utf-8') #НИКИТЕ: вот с этого момента запускай"
   ]
  },
  {
   "cell_type": "markdown",
   "metadata": {},
   "source": [
    "KNN для данных origin без пропусков"
   ]
  },
  {
   "cell_type": "code",
   "execution_count": 7,
   "metadata": {
    "collapsed": true
   },
   "outputs": [],
   "source": [
    "knn = KNeighborsClassifier(n_neighbors=3, n_jobs=-1,weights='distance')\n",
    "data_t = data1[data1['part'] != 'UNKNOWN']\n",
    "knn.fit(X=data_t[['origin_order_latitude', 'origin_order_longitude']], y=data_t.part)\n",
    "predict_train_origin = knn.predict(X=data_origin_train[['origin_order_latitude', 'origin_order_longitude']])\n",
    "predict_test_origin = knn.predict(X=data_origin_test[['origin_order_latitude', 'origin_order_longitude']])"
   ]
  },
  {
   "cell_type": "code",
   "execution_count": 8,
   "metadata": {
    "collapsed": true
   },
   "outputs": [],
   "source": [
    "data_origin_train['district_origin'] = predict_train_origin\n",
    "data_origin_test['district_origin'] = predict_test_origin"
   ]
  },
  {
   "cell_type": "code",
   "execution_count": 9,
   "metadata": {
    "collapsed": true
   },
   "outputs": [],
   "source": [
    "data_train_copy['district_origin'] = data_origin_train['district_origin']\n",
    "data_test_copy['district_origin'] = data_origin_test['district_origin']"
   ]
  },
  {
   "cell_type": "markdown",
   "metadata": {},
   "source": [
    "KNN для данных driver без пропусков"
   ]
  },
  {
   "cell_type": "code",
   "execution_count": 10,
   "metadata": {
    "collapsed": true
   },
   "outputs": [],
   "source": [
    "knn = KNeighborsClassifier(n_neighbors=3, n_jobs=-1,weights='distance')\n",
    "data_t = data1[data1['part_d'] != 'UNKNOWN']\n",
    "knn.fit(X=data_t[['driver_latitude', 'driver_longitude']], y=data_t['part_d'])\n",
    "predict_train_driver = knn.predict(X=data_driver_train[['driver_latitude', 'driver_longitude']])\n",
    "predict_test_driver = knn.predict(X=data_driver_test[['driver_latitude', 'driver_longitude']])\n",
    "\n",
    "# knn = KNeighborsClassifier(n_neighbors=3, n_jobs=-1,weights='distance')\n",
    "# data_t = data1[data1['part'] != 'UNKNOWN']\n",
    "# knn.fit(X=data_t[['driver_latitude', 'driver_longitude']], y=data_t.part_d)\n",
    "# predict_train = knn.predict(X=data_train[['driver_latitude', 'driver_longitude']])\n",
    "# predict_test = knn.predict(X=data_test[['driver_latitude', 'driver_longitude']])"
   ]
  },
  {
   "cell_type": "code",
   "execution_count": 11,
   "metadata": {
    "collapsed": true
   },
   "outputs": [],
   "source": [
    "data_driver_train['district_driver'] = predict_train_driver\n",
    "data_driver_test['district_driver'] = predict_test_driver"
   ]
  },
  {
   "cell_type": "code",
   "execution_count": 12,
   "metadata": {
    "collapsed": true
   },
   "outputs": [],
   "source": [
    "data_train_copy['district_driver'] = data_driver_train['district_driver']\n",
    "data_test_copy['district_driver'] = data_driver_test['district_driver']"
   ]
  },
  {
   "cell_type": "markdown",
   "metadata": {},
   "source": [
    "Заполняем пропуски для 'district_driver' и 'district_origin'"
   ]
  },
  {
   "cell_type": "code",
   "execution_count": 13,
   "metadata": {
    "collapsed": true
   },
   "outputs": [],
   "source": [
    "data_train_copy.loc[data_train_copy['district_driver'].isnull(), ['district_driver']] = data_train_copy[data_train_copy['district_driver'].isnull()]['district_origin']\n",
    "data_train_copy.loc[data_train_copy['district_origin'].isnull(), ['district_origin' ]] = data_train_copy[data_train_copy['district_origin' ].isnull()]['district_driver']"
   ]
  },
  {
   "cell_type": "code",
   "execution_count": 14,
   "metadata": {
    "collapsed": true
   },
   "outputs": [],
   "source": [
    "data_test_copy.loc[data_test_copy['district_driver'].isnull(), ['district_driver']] = data_test_copy[data_test_copy['district_driver'].isnull()]['district_origin']\n",
    "data_test_copy.loc[data_test_copy['district_origin'].isnull(), ['district_origin' ]] = data_test_copy[data_test_copy['district_origin' ].isnull()]['district_driver']"
   ]
  },
  {
   "cell_type": "markdown",
   "metadata": {},
   "source": [
    "Восстанавливаем пропущенные координаты:"
   ]
  },
  {
   "cell_type": "code",
   "execution_count": 15,
   "metadata": {
    "collapsed": true
   },
   "outputs": [],
   "source": [
    "#создадим словарь с координатами центров районов\n",
    "centers_origin = {}\n",
    "for district in data_train_copy.district_origin.unique():\n",
    "    centers_origin.update({district:[data_train_copy[data_train_copy.district_origin == district]['origin_order_longitude'].mean(),\n",
    "                                     data_train_copy[data_train_copy.district_origin == district]['origin_order_latitude'].mean()]})\n",
    "    \n",
    "centers_driver = {}\n",
    "for district in data_train_copy.district_driver.unique():\n",
    "    centers_driver.update({district:[data_train_copy[data_train_copy.district_driver == district]['driver_longitude'].mean(),\n",
    "                                     data_train_copy[data_train_copy.district_driver == district]['driver_latitude'].mean()]}) \n",
    "centers_driver['Солнечногорский район'] = [37.125881282828281, 55.982758343434334]"
   ]
  },
  {
   "cell_type": "code",
   "execution_count": 16,
   "metadata": {
    "collapsed": true
   },
   "outputs": [],
   "source": [
    "# plt.figure(figsize = (8,5))\n",
    "# plt.scatter(data_train_copy[(data_train_copy['district_origin'] == 'Центральный административный округ')].origin_order_longitude, \n",
    "#                 data_train_copy[(data_train_copy['district_origin'] == 'Центральный административный округ')].origin_order_latitude, c='purple')\n",
    "# plt.scatter(centers_origin['Центральный административный округ'][0],centers_origin['Центральный административный округ'][1], c = 'red')"
   ]
  },
  {
   "cell_type": "markdown",
   "metadata": {},
   "source": [
    "Заменяем пропущенные координаты на средние по районам на трейне"
   ]
  },
  {
   "cell_type": "code",
   "execution_count": 17,
   "metadata": {
    "collapsed": true
   },
   "outputs": [],
   "source": [
    "def fill_driver_null(row):\n",
    "    row['driver_longitude'] = centers_driver[row['district_driver']][0]\n",
    "    row['driver_latitude'] = centers_driver[row['district_driver']][1]\n",
    "    return row\n",
    "\n",
    "def fill_origin_null(row):\n",
    "    row['origin_order_longitude'] = centers_driver[row['district_origin']][0]\n",
    "    row['origin_order_latitude'] = centers_driver[row['district_origin']][1]\n",
    "    return row"
   ]
  },
  {
   "cell_type": "code",
   "execution_count": 18,
   "metadata": {
    "collapsed": true,
    "scrolled": true
   },
   "outputs": [],
   "source": [
    "data_null_driver = data_train_copy.loc[data_train_copy['driver_latitude'].isnull(), ['driver_longitude', 'driver_latitude', 'district_driver']]\n",
    "data_null_origin = data_train_copy.loc[data_train_copy['origin_order_latitude'].isnull(), ['origin_order_longitude', 'origin_order_latitude', 'district_origin']]"
   ]
  },
  {
   "cell_type": "code",
   "execution_count": 19,
   "metadata": {
    "collapsed": true
   },
   "outputs": [],
   "source": [
    "data_train_copy.loc[data_train_copy['driver_longitude'].isnull(), \n",
    "                    ['driver_longitude', 'driver_latitude']] = data_null_driver.apply(fill_driver_null, axis = 1)[['driver_longitude', 'driver_latitude']]\n",
    "data_train_copy.loc[data_train_copy['origin_order_longitude'].isnull(), \n",
    "                    ['origin_order_longitude', 'origin_order_latitude']] = data_null_origin.apply(fill_origin_null, axis = 1)[['origin_order_longitude', 'origin_order_latitude']]"
   ]
  },
  {
   "cell_type": "code",
   "execution_count": 20,
   "metadata": {
    "collapsed": true,
    "scrolled": true
   },
   "outputs": [],
   "source": [
    "data_null_driver_test = data_test_copy.loc[data_test_copy['driver_latitude'].isnull(), ['driver_longitude', 'driver_latitude', 'district_driver']]\n",
    "data_null_origin_test = data_test_copy.loc[data_test_copy['origin_order_latitude'].isnull(), ['origin_order_longitude', 'origin_order_latitude', 'district_origin']]"
   ]
  },
  {
   "cell_type": "code",
   "execution_count": 21,
   "metadata": {
    "collapsed": true
   },
   "outputs": [],
   "source": [
    "data_test_copy.loc[data_test_copy['driver_longitude'].isnull(), \n",
    "                    ['driver_longitude', 'driver_latitude']] = data_null_driver_test.apply(fill_driver_null, axis = 1)[['driver_longitude', 'driver_latitude']]\n",
    "data_test_copy.loc[data_test_copy['origin_order_longitude'].isnull(), \n",
    "                    ['origin_order_longitude', 'origin_order_latitude']] = data_null_origin_test.apply(fill_origin_null, axis = 1)[['origin_order_longitude', 'origin_order_latitude']]"
   ]
  },
  {
   "cell_type": "code",
   "execution_count": 22,
   "metadata": {
    "collapsed": true
   },
   "outputs": [],
   "source": [
    "# plt.figure(figsize = (16,15))\n",
    "\n",
    "# for i in data_train_copy['district_origin'].unique():\n",
    "#     plt.scatter(data_train_copy[(data_train_copy['district_origin'] == i)].origin_order_longitude, \n",
    "#                 data_train_copy[(data_train_copy['district_origin'] == i)].origin_order_latitude, \n",
    "#                 label=i, \n",
    "#                 c = ([np.random.rand() for i in range(3)]))\n",
    "# plt.legend()"
   ]
  },
  {
   "cell_type": "markdown",
   "metadata": {},
   "source": [
    "Теперь разберемся с некорректными значениями в переменных distance и duration:    \n"
   ]
  },
  {
   "cell_type": "code",
   "execution_count": 23,
   "metadata": {
    "collapsed": true
   },
   "outputs": [],
   "source": [
    "for column in ['distance_km', 'duration_min']:\n",
    "    data_train_copy[column].replace(-1, 0, inplace = True)\n",
    "    data_test_copy[column].replace(-1, 0, inplace = True)"
   ]
  },
  {
   "cell_type": "markdown",
   "metadata": {},
   "source": [
    "#### Дистанция:"
   ]
  },
  {
   "cell_type": "markdown",
   "metadata": {},
   "source": [
    "Создаём обучающую выборку (объеденяем ненулевые значения для трейн/тест)"
   ]
  },
  {
   "cell_type": "code",
   "execution_count": 24,
   "metadata": {
    "collapsed": true
   },
   "outputs": [],
   "source": [
    "full_data = data_train_copy.append(data_test_copy).reset_index(drop = True)\n",
    "full_data = full_data[full_data['distance_km'] > 0]"
   ]
  },
  {
   "cell_type": "code",
   "execution_count": 25,
   "metadata": {},
   "outputs": [
    {
     "name": "stdout",
     "output_type": "stream",
     "text": [
      "(777639, 17)\n"
     ]
    }
   ],
   "source": [
    "common_district = (full_data['district_origin'] == full_data['district_driver']).values.astype(int)\n",
    "full_data['common_district'] = common_district\n",
    "print(full_data.shape)"
   ]
  },
  {
   "cell_type": "code",
   "execution_count": 26,
   "metadata": {
    "collapsed": true
   },
   "outputs": [],
   "source": [
    "x_xgb = pd.get_dummies(data = full_data[['weekday_key', \n",
    "                                   'hour_key', \n",
    "                                   'offer_class_group', \n",
    "                                   'ride_type_desc',\n",
    "                                   'driver_latitude', \n",
    "                                   'driver_longitude',\n",
    "                                   'origin_order_latitude',\n",
    "                                   'origin_order_longitude',\n",
    "                                   'common_district']], \n",
    "                       columns = ['weekday_key', \n",
    "                                  'hour_key', \n",
    "                                  'offer_class_group', \n",
    "                                  'ride_type_desc'])\n",
    "y_xgb = full_data['distance_km']"
   ]
  },
  {
   "cell_type": "markdown",
   "metadata": {},
   "source": [
    "Обучаем модель"
   ]
  },
  {
   "cell_type": "code",
   "execution_count": 27,
   "metadata": {
    "collapsed": true
   },
   "outputs": [],
   "source": [
    "dfull_distance_train = xgb.DMatrix(x_xgb, label=y_xgb)\n",
    "params = {\n",
    "         'num_round': 150,\n",
    "         'eta': 0.2,\n",
    "         'max_depth': 5,\n",
    "         'min_child_weight': 3,\n",
    "         'subsample': 0.7,\n",
    "         'gamma': 0,\n",
    "         'objective': 'reg:linear',\n",
    "         'nthread' : 4,\n",
    "         'silent' : 1\n",
    "         }\n",
    "model = xgb.train(params, dfull_distance_train, int(params['num_round']))"
   ]
  },
  {
   "cell_type": "markdown",
   "metadata": {},
   "source": [
    "Заполняем нулевые значения distance_km для трейна"
   ]
  },
  {
   "cell_type": "code",
   "execution_count": 28,
   "metadata": {
    "scrolled": true
   },
   "outputs": [
    {
     "name": "stderr",
     "output_type": "stream",
     "text": [
      "c:\\users\\nikitos\\appdata\\local\\programs\\python\\python35\\lib\\site-packages\\ipykernel_launcher.py:3: SettingWithCopyWarning: \n",
      "A value is trying to be set on a copy of a slice from a DataFrame.\n",
      "Try using .loc[row_indexer,col_indexer] = value instead\n",
      "\n",
      "See the caveats in the documentation: http://pandas.pydata.org/pandas-docs/stable/indexing.html#indexing-view-versus-copy\n",
      "  This is separate from the ipykernel package so we can avoid doing imports until\n"
     ]
    },
    {
     "name": "stdout",
     "output_type": "stream",
     "text": [
      "(255598, 17)\n"
     ]
    }
   ],
   "source": [
    "nan_train = data_train_copy[data_train_copy['distance_km'] <= 0]\n",
    "common_district = (nan_train['district_origin'] == nan_train['district_driver']).values.astype(int)\n",
    "nan_train['common_district'] = common_district\n",
    "print(nan_train.shape)"
   ]
  },
  {
   "cell_type": "code",
   "execution_count": 29,
   "metadata": {
    "collapsed": true
   },
   "outputs": [],
   "source": [
    "to_predict_train = pd.get_dummies(data = nan_train[['weekday_key', \n",
    "                                   'hour_key', \n",
    "                                   'offer_class_group', \n",
    "                                   'ride_type_desc',\n",
    "                                   'driver_latitude', \n",
    "                                   'driver_longitude',\n",
    "                                   'origin_order_latitude',\n",
    "                                   'origin_order_longitude',\n",
    "                                   'common_district']], \n",
    "                       columns = ['weekday_key', \n",
    "                                  'hour_key', \n",
    "                                  'offer_class_group', \n",
    "                                  'ride_type_desc'])\n",
    "to_predict_train.drop(['ride_type_desc_affiliate'], axis = 1, inplace = True)\n",
    "to_predict_y = nan_train['distance_km']"
   ]
  },
  {
   "cell_type": "code",
   "execution_count": 30,
   "metadata": {},
   "outputs": [
    {
     "name": "stderr",
     "output_type": "stream",
     "text": [
      "c:\\users\\nikitos\\appdata\\local\\programs\\python\\python35\\lib\\site-packages\\ipykernel_launcher.py:3: SettingWithCopyWarning: \n",
      "A value is trying to be set on a copy of a slice from a DataFrame.\n",
      "Try using .loc[row_indexer,col_indexer] = value instead\n",
      "\n",
      "See the caveats in the documentation: http://pandas.pydata.org/pandas-docs/stable/indexing.html#indexing-view-versus-copy\n",
      "  This is separate from the ipykernel package so we can avoid doing imports until\n"
     ]
    }
   ],
   "source": [
    "d_to_predict_train = xgb.DMatrix(to_predict_train, label=to_predict_y)\n",
    "predictions = model.predict(d_to_predict_train)\n",
    "nan_train['predicted_distance'] = predictions\n",
    "data_train_copy.loc[data_train_copy['distance_km'] <=0, ['distance_km']] = nan_train['predicted_distance']"
   ]
  },
  {
   "cell_type": "markdown",
   "metadata": {},
   "source": [
    "Заполняем нулевые значения distance_km для теста"
   ]
  },
  {
   "cell_type": "code",
   "execution_count": 31,
   "metadata": {
    "scrolled": true
   },
   "outputs": [
    {
     "name": "stderr",
     "output_type": "stream",
     "text": [
      "c:\\users\\nikitos\\appdata\\local\\programs\\python\\python35\\lib\\site-packages\\ipykernel_launcher.py:3: SettingWithCopyWarning: \n",
      "A value is trying to be set on a copy of a slice from a DataFrame.\n",
      "Try using .loc[row_indexer,col_indexer] = value instead\n",
      "\n",
      "See the caveats in the documentation: http://pandas.pydata.org/pandas-docs/stable/indexing.html#indexing-view-versus-copy\n",
      "  This is separate from the ipykernel package so we can avoid doing imports until\n"
     ]
    },
    {
     "name": "stdout",
     "output_type": "stream",
     "text": [
      "(97133, 17)\n"
     ]
    }
   ],
   "source": [
    "nan_test = data_test_copy[data_test_copy['distance_km'] <= 0]\n",
    "common_district = (nan_test['district_origin'] == nan_test['district_driver']).values.astype(int)\n",
    "nan_test['common_district'] = common_district\n",
    "print(nan_test.shape)"
   ]
  },
  {
   "cell_type": "code",
   "execution_count": 32,
   "metadata": {
    "collapsed": true
   },
   "outputs": [],
   "source": [
    "to_predict_test = pd.get_dummies(data = nan_test[['weekday_key', \n",
    "                                   'hour_key', \n",
    "                                   'offer_class_group', \n",
    "                                   'ride_type_desc',\n",
    "                                   'driver_latitude', \n",
    "                                   'driver_longitude',\n",
    "                                   'origin_order_latitude',\n",
    "                                   'origin_order_longitude',\n",
    "                                   'common_district']], \n",
    "                       columns = ['weekday_key', \n",
    "                                  'hour_key', \n",
    "                                  'offer_class_group', \n",
    "                                  'ride_type_desc'])\n",
    "to_predict_test.drop(['ride_type_desc_affiliate'], axis = 1, inplace = True)\n",
    "to_predict_y = nan_test['distance_km']"
   ]
  },
  {
   "cell_type": "code",
   "execution_count": 33,
   "metadata": {
    "scrolled": true
   },
   "outputs": [
    {
     "name": "stderr",
     "output_type": "stream",
     "text": [
      "c:\\users\\nikitos\\appdata\\local\\programs\\python\\python35\\lib\\site-packages\\ipykernel_launcher.py:3: SettingWithCopyWarning: \n",
      "A value is trying to be set on a copy of a slice from a DataFrame.\n",
      "Try using .loc[row_indexer,col_indexer] = value instead\n",
      "\n",
      "See the caveats in the documentation: http://pandas.pydata.org/pandas-docs/stable/indexing.html#indexing-view-versus-copy\n",
      "  This is separate from the ipykernel package so we can avoid doing imports until\n"
     ]
    }
   ],
   "source": [
    "d_to_predict_test = xgb.DMatrix(to_predict_test, label=to_predict_y)\n",
    "predictions = model.predict(d_to_predict_test)\n",
    "nan_test['predicted_distance'] = predictions\n",
    "data_test_copy.loc[data_test_copy['distance_km'] <=0, ['distance_km']] = nan_test['predicted_distance']"
   ]
  },
  {
   "cell_type": "code",
   "execution_count": 34,
   "metadata": {},
   "outputs": [
    {
     "data": {
      "text/html": [
       "<div>\n",
       "<style>\n",
       "    .dataframe thead tr:only-child th {\n",
       "        text-align: right;\n",
       "    }\n",
       "\n",
       "    .dataframe thead th {\n",
       "        text-align: left;\n",
       "    }\n",
       "\n",
       "    .dataframe tbody tr th {\n",
       "        vertical-align: top;\n",
       "    }\n",
       "</style>\n",
       "<table border=\"1\" class=\"dataframe\">\n",
       "  <thead>\n",
       "    <tr style=\"text-align: right;\">\n",
       "      <th></th>\n",
       "      <th>offer_gk</th>\n",
       "      <th>weekday_key</th>\n",
       "      <th>hour_key</th>\n",
       "      <th>driver_gk</th>\n",
       "      <th>order_gk</th>\n",
       "      <th>driver_latitude</th>\n",
       "      <th>driver_longitude</th>\n",
       "      <th>origin_order_latitude</th>\n",
       "      <th>origin_order_longitude</th>\n",
       "      <th>distance_km</th>\n",
       "      <th>duration_min</th>\n",
       "      <th>offer_class_group</th>\n",
       "      <th>ride_type_desc</th>\n",
       "      <th>driver_response</th>\n",
       "      <th>district_origin</th>\n",
       "      <th>district_driver</th>\n",
       "    </tr>\n",
       "  </thead>\n",
       "  <tbody>\n",
       "    <tr>\n",
       "      <th>0</th>\n",
       "      <td>1105373</td>\n",
       "      <td>5</td>\n",
       "      <td>20</td>\n",
       "      <td>6080</td>\n",
       "      <td>174182</td>\n",
       "      <td>55.818842</td>\n",
       "      <td>37.334562</td>\n",
       "      <td>55.814567</td>\n",
       "      <td>37.355010</td>\n",
       "      <td>15.688855</td>\n",
       "      <td>0.000</td>\n",
       "      <td>Economy</td>\n",
       "      <td>private</td>\n",
       "      <td>0</td>\n",
       "      <td>городской округ Красногорск</td>\n",
       "      <td>городской округ Красногорск</td>\n",
       "    </tr>\n",
       "    <tr>\n",
       "      <th>1</th>\n",
       "      <td>759733</td>\n",
       "      <td>5</td>\n",
       "      <td>14</td>\n",
       "      <td>6080</td>\n",
       "      <td>358774</td>\n",
       "      <td>55.805342</td>\n",
       "      <td>37.515023</td>\n",
       "      <td>55.819329</td>\n",
       "      <td>37.466398</td>\n",
       "      <td>18.802000</td>\n",
       "      <td>25.217</td>\n",
       "      <td>Standard</td>\n",
       "      <td>private</td>\n",
       "      <td>1</td>\n",
       "      <td>Северо-Западный административный округ</td>\n",
       "      <td>Северный административный округ</td>\n",
       "    </tr>\n",
       "    <tr>\n",
       "      <th>2</th>\n",
       "      <td>416977</td>\n",
       "      <td>6</td>\n",
       "      <td>14</td>\n",
       "      <td>6080</td>\n",
       "      <td>866260</td>\n",
       "      <td>55.813978</td>\n",
       "      <td>37.347688</td>\n",
       "      <td>55.814827</td>\n",
       "      <td>37.354074</td>\n",
       "      <td>6.747000</td>\n",
       "      <td>9.800</td>\n",
       "      <td>Economy</td>\n",
       "      <td>private</td>\n",
       "      <td>0</td>\n",
       "      <td>городской округ Красногорск</td>\n",
       "      <td>городской округ Красногорск</td>\n",
       "    </tr>\n",
       "    <tr>\n",
       "      <th>3</th>\n",
       "      <td>889660</td>\n",
       "      <td>2</td>\n",
       "      <td>6</td>\n",
       "      <td>6080</td>\n",
       "      <td>163522</td>\n",
       "      <td>55.745922</td>\n",
       "      <td>37.421748</td>\n",
       "      <td>55.743469</td>\n",
       "      <td>37.431130</td>\n",
       "      <td>19.724066</td>\n",
       "      <td>0.000</td>\n",
       "      <td>Economy</td>\n",
       "      <td>private</td>\n",
       "      <td>1</td>\n",
       "      <td>Западный административный округ</td>\n",
       "      <td>Западный административный округ</td>\n",
       "    </tr>\n",
       "    <tr>\n",
       "      <th>4</th>\n",
       "      <td>1120055</td>\n",
       "      <td>4</td>\n",
       "      <td>16</td>\n",
       "      <td>6080</td>\n",
       "      <td>506710</td>\n",
       "      <td>55.803578</td>\n",
       "      <td>37.521602</td>\n",
       "      <td>55.812559</td>\n",
       "      <td>37.527407</td>\n",
       "      <td>12.383000</td>\n",
       "      <td>19.250</td>\n",
       "      <td>Economy</td>\n",
       "      <td>private</td>\n",
       "      <td>1</td>\n",
       "      <td>Северный административный округ</td>\n",
       "      <td>Северный административный округ</td>\n",
       "    </tr>\n",
       "  </tbody>\n",
       "</table>\n",
       "</div>"
      ],
      "text/plain": [
       "   offer_gk  weekday_key  hour_key  driver_gk  order_gk  driver_latitude  \\\n",
       "0   1105373            5        20       6080    174182        55.818842   \n",
       "1    759733            5        14       6080    358774        55.805342   \n",
       "2    416977            6        14       6080    866260        55.813978   \n",
       "3    889660            2         6       6080    163522        55.745922   \n",
       "4   1120055            4        16       6080    506710        55.803578   \n",
       "\n",
       "   driver_longitude  origin_order_latitude  origin_order_longitude  \\\n",
       "0         37.334562              55.814567               37.355010   \n",
       "1         37.515023              55.819329               37.466398   \n",
       "2         37.347688              55.814827               37.354074   \n",
       "3         37.421748              55.743469               37.431130   \n",
       "4         37.521602              55.812559               37.527407   \n",
       "\n",
       "   distance_km  duration_min offer_class_group ride_type_desc  \\\n",
       "0    15.688855         0.000           Economy        private   \n",
       "1    18.802000        25.217          Standard        private   \n",
       "2     6.747000         9.800           Economy        private   \n",
       "3    19.724066         0.000           Economy        private   \n",
       "4    12.383000        19.250           Economy        private   \n",
       "\n",
       "   driver_response                         district_origin  \\\n",
       "0                0             городской округ Красногорск   \n",
       "1                1  Северо-Западный административный округ   \n",
       "2                0             городской округ Красногорск   \n",
       "3                1         Западный административный округ   \n",
       "4                1         Северный административный округ   \n",
       "\n",
       "                   district_driver  \n",
       "0      городской округ Красногорск  \n",
       "1  Северный административный округ  \n",
       "2      городской округ Красногорск  \n",
       "3  Западный административный округ  \n",
       "4  Северный административный округ  "
      ]
     },
     "execution_count": 34,
     "metadata": {},
     "output_type": "execute_result"
    }
   ],
   "source": [
    "data_train_copy.head()"
   ]
  },
  {
   "cell_type": "markdown",
   "metadata": {},
   "source": [
    "#### Длительность поездки"
   ]
  },
  {
   "cell_type": "code",
   "execution_count": 35,
   "metadata": {
    "collapsed": true
   },
   "outputs": [],
   "source": [
    "full_data_duration = data_train_copy.append(data_test_copy).reset_index(drop = True)\n",
    "full_data_duration = full_data_duration[full_data_duration['duration_min'] > 0]"
   ]
  },
  {
   "cell_type": "code",
   "execution_count": 36,
   "metadata": {},
   "outputs": [
    {
     "name": "stdout",
     "output_type": "stream",
     "text": [
      "(777627, 17)\n"
     ]
    }
   ],
   "source": [
    "common_district = (full_data_duration['district_origin'] == full_data_duration['district_driver']).values.astype(int)\n",
    "full_data_duration['common_district'] = common_district\n",
    "print(full_data_duration.shape)"
   ]
  },
  {
   "cell_type": "code",
   "execution_count": 37,
   "metadata": {
    "collapsed": true
   },
   "outputs": [],
   "source": [
    "x_xgb_duration = pd.get_dummies(data = full_data_duration[['weekday_key', \n",
    "                                   'hour_key', \n",
    "                                   'offer_class_group', \n",
    "                                   'ride_type_desc',\n",
    "                                   'driver_latitude', \n",
    "                                   'driver_longitude',\n",
    "                                   'origin_order_latitude',\n",
    "                                   'origin_order_longitude',\n",
    "                                   'common_district']], \n",
    "                       columns = ['weekday_key', \n",
    "                                  'hour_key', \n",
    "                                  'offer_class_group', \n",
    "                                  'ride_type_desc'])\n",
    "y_xgb_duration = full_data_duration['duration_min']"
   ]
  },
  {
   "cell_type": "code",
   "execution_count": 38,
   "metadata": {
    "collapsed": true
   },
   "outputs": [],
   "source": [
    "X_train, X_test, y_train, y_test = train_test_split(\n",
    "    x_xgb_duration, y_xgb_duration, test_size=0.3, random_state=17)"
   ]
  },
  {
   "cell_type": "markdown",
   "metadata": {},
   "source": [
    "Обучаем модель для длительности поездки"
   ]
  },
  {
   "cell_type": "code",
   "execution_count": 39,
   "metadata": {
    "collapsed": true
   },
   "outputs": [],
   "source": [
    "dfull_duration_train = xgb.DMatrix(x_xgb_duration, label=y_xgb_duration)\n",
    "params = {\n",
    "         'num_round': 150,\n",
    "         'eta': 0.2,\n",
    "         'max_depth': 7,\n",
    "         'min_child_weight': 1,\n",
    "         'subsample': 0.8,\n",
    "         'gamma': 0.4,\n",
    "         'objective': 'reg:linear',\n",
    "         'nthread' : 4,\n",
    "         'silent' : 1\n",
    "         }\n",
    "model = xgb.train(params, dfull_duration_train, int(params['num_round']))"
   ]
  },
  {
   "cell_type": "markdown",
   "metadata": {},
   "source": [
    "Заполняем нулевые значения duration_min для трейна"
   ]
  },
  {
   "cell_type": "code",
   "execution_count": 40,
   "metadata": {
    "scrolled": true
   },
   "outputs": [
    {
     "name": "stderr",
     "output_type": "stream",
     "text": [
      "c:\\users\\nikitos\\appdata\\local\\programs\\python\\python35\\lib\\site-packages\\ipykernel_launcher.py:3: SettingWithCopyWarning: \n",
      "A value is trying to be set on a copy of a slice from a DataFrame.\n",
      "Try using .loc[row_indexer,col_indexer] = value instead\n",
      "\n",
      "See the caveats in the documentation: http://pandas.pydata.org/pandas-docs/stable/indexing.html#indexing-view-versus-copy\n",
      "  This is separate from the ipykernel package so we can avoid doing imports until\n"
     ]
    },
    {
     "name": "stdout",
     "output_type": "stream",
     "text": [
      "(255607, 17)\n"
     ]
    }
   ],
   "source": [
    "nan_train_duration = data_train_copy[data_train_copy['duration_min'] <= 0]\n",
    "common_district = (nan_train_duration['district_origin'] == nan_train_duration['district_driver']).values.astype(int)\n",
    "nan_train_duration['common_district'] = common_district\n",
    "print(nan_train_duration.shape)"
   ]
  },
  {
   "cell_type": "code",
   "execution_count": 41,
   "metadata": {
    "collapsed": true
   },
   "outputs": [],
   "source": [
    "to_predict_train_duration = pd.get_dummies(data = nan_train_duration[['weekday_key', \n",
    "                                   'hour_key', \n",
    "                                   'offer_class_group', \n",
    "                                   'ride_type_desc',\n",
    "                                   'driver_latitude', \n",
    "                                   'driver_longitude',\n",
    "                                   'origin_order_latitude',\n",
    "                                   'origin_order_longitude',\n",
    "                                   'common_district']], \n",
    "                       columns = ['weekday_key', \n",
    "                                  'hour_key', \n",
    "                                  'offer_class_group', \n",
    "                                  'ride_type_desc'])\n",
    "to_predict_train_duration.drop(['ride_type_desc_affiliate'], axis = 1, inplace = True)\n",
    "to_predict_y = nan_train_duration['duration_min']"
   ]
  },
  {
   "cell_type": "code",
   "execution_count": 42,
   "metadata": {},
   "outputs": [
    {
     "name": "stderr",
     "output_type": "stream",
     "text": [
      "c:\\users\\nikitos\\appdata\\local\\programs\\python\\python35\\lib\\site-packages\\ipykernel_launcher.py:3: SettingWithCopyWarning: \n",
      "A value is trying to be set on a copy of a slice from a DataFrame.\n",
      "Try using .loc[row_indexer,col_indexer] = value instead\n",
      "\n",
      "See the caveats in the documentation: http://pandas.pydata.org/pandas-docs/stable/indexing.html#indexing-view-versus-copy\n",
      "  This is separate from the ipykernel package so we can avoid doing imports until\n"
     ]
    }
   ],
   "source": [
    "d_to_predict_train_duration = xgb.DMatrix(to_predict_train_duration, label=to_predict_y)\n",
    "predictions = model.predict(d_to_predict_train_duration)\n",
    "nan_train_duration['predicted_duration'] = predictions\n",
    "data_train_copy.loc[data_train_copy['duration_min'] <=0, ['duration_min']] = nan_train_duration['predicted_duration']"
   ]
  },
  {
   "cell_type": "markdown",
   "metadata": {},
   "source": [
    "Заполняем нулевые значения duration_min для теста"
   ]
  },
  {
   "cell_type": "code",
   "execution_count": 43,
   "metadata": {
    "scrolled": true
   },
   "outputs": [
    {
     "name": "stderr",
     "output_type": "stream",
     "text": [
      "c:\\users\\nikitos\\appdata\\local\\programs\\python\\python35\\lib\\site-packages\\ipykernel_launcher.py:3: SettingWithCopyWarning: \n",
      "A value is trying to be set on a copy of a slice from a DataFrame.\n",
      "Try using .loc[row_indexer,col_indexer] = value instead\n",
      "\n",
      "See the caveats in the documentation: http://pandas.pydata.org/pandas-docs/stable/indexing.html#indexing-view-versus-copy\n",
      "  This is separate from the ipykernel package so we can avoid doing imports until\n"
     ]
    },
    {
     "name": "stdout",
     "output_type": "stream",
     "text": [
      "(97136, 17)\n"
     ]
    }
   ],
   "source": [
    "nan_test_duration = data_test_copy[data_test_copy['duration_min'] <= 0]\n",
    "common_district = (nan_test_duration['district_origin'] == nan_test_duration['district_driver']).values.astype(int)\n",
    "nan_test_duration['common_district'] = common_district\n",
    "print(nan_test_duration.shape)"
   ]
  },
  {
   "cell_type": "code",
   "execution_count": 44,
   "metadata": {
    "collapsed": true
   },
   "outputs": [],
   "source": [
    "to_predict_test_duration = pd.get_dummies(data = nan_test_duration[['weekday_key', \n",
    "                                   'hour_key', \n",
    "                                   'offer_class_group', \n",
    "                                   'ride_type_desc',\n",
    "                                   'driver_latitude', \n",
    "                                   'driver_longitude',\n",
    "                                   'origin_order_latitude',\n",
    "                                   'origin_order_longitude',\n",
    "                                   'common_district']], \n",
    "                       columns = ['weekday_key', \n",
    "                                  'hour_key', \n",
    "                                  'offer_class_group', \n",
    "                                  'ride_type_desc'])\n",
    "to_predict_test_duration.drop(['ride_type_desc_affiliate'], axis = 1, inplace = True)\n",
    "to_predict_y = nan_test_duration['duration_min']"
   ]
  },
  {
   "cell_type": "code",
   "execution_count": 45,
   "metadata": {
    "scrolled": false
   },
   "outputs": [
    {
     "name": "stderr",
     "output_type": "stream",
     "text": [
      "c:\\users\\nikitos\\appdata\\local\\programs\\python\\python35\\lib\\site-packages\\ipykernel_launcher.py:3: SettingWithCopyWarning: \n",
      "A value is trying to be set on a copy of a slice from a DataFrame.\n",
      "Try using .loc[row_indexer,col_indexer] = value instead\n",
      "\n",
      "See the caveats in the documentation: http://pandas.pydata.org/pandas-docs/stable/indexing.html#indexing-view-versus-copy\n",
      "  This is separate from the ipykernel package so we can avoid doing imports until\n"
     ]
    }
   ],
   "source": [
    "d_to_predict_test_duration = xgb.DMatrix(to_predict_test_duration, label=to_predict_y)\n",
    "predictions = model.predict(d_to_predict_test_duration)\n",
    "nan_test_duration['predicted_duration'] = predictions\n",
    "data_test_copy.loc[data_test_copy['duration_min'] <=0, ['duration_min']] = nan_test_duration['predicted_duration']"
   ]
  },
  {
   "cell_type": "markdown",
   "metadata": {},
   "source": [
    "### NANS ARE OUT"
   ]
  },
  {
   "cell_type": "markdown",
   "metadata": {
    "collapsed": true
   },
   "source": [
    "### Извлечение расстояния из геоданных"
   ]
  },
  {
   "cell_type": "code",
   "execution_count": 46,
   "metadata": {
    "collapsed": true
   },
   "outputs": [],
   "source": [
    "def get_direction(lat1, lng1, lat2, lng2):\n",
    "    AVG_EARTH_RADIUS = 6371  # in km\n",
    "    lng_delta_rad = np.radians(lng2 - lng1)\n",
    "    lat1, lng1, lat2, lng2 = map(np.radians, (lat1, lng1, lat2, lng2))\n",
    "    y = np.sin(lng_delta_rad) * np.cos(lat2)\n",
    "    x = np.cos(lat1) * np.sin(lat2) - np.sin(lat1) * np.cos(lat2) * np.cos(lng_delta_rad)\n",
    "    return np.degrees(np.arctan2(y, x))\n",
    "\n",
    "def get_vincenty_distance(latitude1, longitude1, latitude2, longitude2):\n",
    "    vincenty_distance = np.zeros(latitude1.shape[0])\n",
    "    i = 0\n",
    "    for lat1,lng1,lat2,lng2 in zip(latitude1, longitude1, latitude2, longitude2):\n",
    "        vincenty_distance[i] = vincenty((lng1, lat1), (lng2, lat2)).kilometers\n",
    "        i += 1\n",
    "    return vincenty_distance\n",
    "\n",
    "def get_manhattan_distance(lat1, lng1, lat2, lng2):\n",
    "    a = get_vincenty_distance(lat1, lng1, lat1, lng2)\n",
    "    b = get_vincenty_distance(lat1, lng1, lat2, lng1)\n",
    "    return a + b"
   ]
  },
  {
   "cell_type": "markdown",
   "metadata": {},
   "source": [
    "Извлечение расстояния из геоданных для трейна"
   ]
  },
  {
   "cell_type": "code",
   "execution_count": 47,
   "metadata": {
    "collapsed": true
   },
   "outputs": [],
   "source": [
    "data_train_copy.loc[:, 'distance_to_origin'] = get_vincenty_distance(data_train_copy['driver_latitude'].values, \n",
    "                                             data_train_copy['driver_longitude'].values, \n",
    "                                             data_train_copy['origin_order_latitude'].values, \n",
    "                                             data_train_copy['origin_order_longitude'].values)\n",
    "data_train_copy.loc[:, 'direction'] = get_direction(data_train_copy['driver_latitude'].values, \n",
    "                                             data_train_copy['driver_longitude'].values, \n",
    "                                             data_train_copy['origin_order_latitude'].values, \n",
    "                                             data_train_copy['origin_order_longitude'].values)\n",
    "data_train_copy.loc[:, 'distance_manhattan'] = get_manhattan_distance(data_train_copy['driver_latitude'].values, \n",
    "                                                            data_train_copy['driver_longitude'].values, \n",
    "                                                            data_train_copy['origin_order_latitude'].values, \n",
    "                                                            data_train_copy['origin_order_longitude'].values)"
   ]
  },
  {
   "cell_type": "code",
   "execution_count": 48,
   "metadata": {},
   "outputs": [
    {
     "name": "stdout",
     "output_type": "stream",
     "text": [
      "Wall time: 38.1 s\n"
     ]
    }
   ],
   "source": [
    "%%time\n",
    "data_test_copy.loc[:, 'distance_to_origin'] = get_vincenty_distance(data_test_copy['driver_latitude'].values, \n",
    "                                             data_test_copy['driver_longitude'].values, \n",
    "                                             data_test_copy['origin_order_latitude'].values, \n",
    "                                             data_test_copy['origin_order_longitude'].values)\n",
    "data_test_copy.loc[:, 'direction'] = get_direction(data_test_copy['driver_latitude'].values, \n",
    "                                             data_test_copy['driver_longitude'].values, \n",
    "                                             data_test_copy['origin_order_latitude'].values, \n",
    "                                             data_test_copy['origin_order_longitude'].values)\n",
    "data_test_copy.loc[:, 'distance_manhattan'] = get_manhattan_distance(data_test_copy['driver_latitude'].values, \n",
    "                                                            data_test_copy['driver_longitude'].values, \n",
    "                                                            data_test_copy['origin_order_latitude'].values, \n",
    "                                                            data_test_copy['origin_order_longitude'].values)"
   ]
  },
  {
   "cell_type": "markdown",
   "metadata": {},
   "source": [
    "#### Фича - доля принятых заказов по районам"
   ]
  },
  {
   "cell_type": "code",
   "execution_count": 49,
   "metadata": {
    "collapsed": true
   },
   "outputs": [],
   "source": [
    "lab_encoder_origin = LabelEncoder()\n",
    "lab_encoder_driver = LabelEncoder()\n",
    "\n",
    "data_train_copy['district_origin'] = lab_encoder_origin.fit_transform(data_train_copy['district_origin'])\n",
    "origin_avg_response = data_train_copy.groupby('district_origin')['driver_response'].mean().values\n",
    "dict_origin_avg_response = dict(zip(list(range(0,len(origin_avg_response))), \n",
    "                                        origin_avg_response))\n",
    "\n",
    "data_train_copy['district_driver'] = lab_encoder_driver.fit_transform(data_train_copy['district_driver'])\n",
    "driver_avg_response = data_train_copy.groupby('district_driver')['driver_response'].mean().values\n",
    "dict_driver_avg_response = dict(zip(list(range(0,len(driver_avg_response))), \n",
    "                                        driver_avg_response))"
   ]
  },
  {
   "cell_type": "code",
   "execution_count": 50,
   "metadata": {
    "collapsed": true
   },
   "outputs": [],
   "source": [
    "np_district_origin = data_train_copy['district_origin'].values\n",
    "origin_avg_response = np.zeros(np_district_origin.shape[0])\n",
    "for i in range(len(np_district_origin)):\n",
    "    origin_avg_response[i] = dict_origin_avg_response[np_district_origin[i]]\n",
    "data_train_copy['district_origin_rate'] = origin_avg_response\n",
    "\n",
    "np_district_driver = data_train_copy['district_driver'].values\n",
    "driver_avg_response = np.zeros(np_district_driver.shape[0])\n",
    "for i in range(len(np_district_driver)):\n",
    "    driver_avg_response[i] = dict_driver_avg_response[np_district_driver[i]]\n",
    "data_train_copy['district_driver_rate'] = driver_avg_response"
   ]
  },
  {
   "cell_type": "code",
   "execution_count": 51,
   "metadata": {
    "collapsed": true
   },
   "outputs": [],
   "source": [
    "data_test_copy['district_origin'] = lab_encoder_origin.transform(data_test_copy['district_origin'])\n",
    "data_test_copy['district_driver'] = lab_encoder_driver.transform(data_test_copy['district_driver'])"
   ]
  },
  {
   "cell_type": "code",
   "execution_count": 52,
   "metadata": {
    "collapsed": true
   },
   "outputs": [],
   "source": [
    "np_district_origin = data_test_copy['district_origin'].values\n",
    "origin_avg_response = np.zeros(np_district_origin.shape[0])\n",
    "for i in range(len(np_district_origin)):\n",
    "    origin_avg_response[i] = dict_origin_avg_response[np_district_origin[i]]\n",
    "data_test_copy['district_origin_rate'] = origin_avg_response\n",
    "\n",
    "np_district_driver = data_test_copy['district_driver'].values\n",
    "driver_avg_response = np.zeros(np_district_driver.shape[0])\n",
    "for i in range(len(np_district_driver)):\n",
    "    driver_avg_response[i] = dict_driver_avg_response[np_district_driver[i]]\n",
    "data_test_copy['district_driver_rate'] = driver_avg_response"
   ]
  },
  {
   "cell_type": "code",
   "execution_count": 53,
   "metadata": {
    "collapsed": true
   },
   "outputs": [],
   "source": [
    "data_train_copy['common_district'] = (data_train_copy['district_origin'] == data_train_copy['district_driver']).values.astype(int)\n",
    "data_test_copy['common_district'] = (data_test_copy['district_origin'] == data_test_copy['district_driver']).values.astype(int)"
   ]
  },
  {
   "cell_type": "markdown",
   "metadata": {},
   "source": [
    "Сделаем численный признак для водителя:"
   ]
  },
  {
   "cell_type": "markdown",
   "metadata": {},
   "source": [
    "#### driver_response_rate\n",
    "Доля приняты заказов каждого водителя"
   ]
  },
  {
   "cell_type": "code",
   "execution_count": 54,
   "metadata": {
    "collapsed": true
   },
   "outputs": [],
   "source": [
    "drivers_rate = {}\n",
    "for driver in data_train_copy.driver_gk.unique():\n",
    "    drivers_rate.update({driver:data_train_copy[data_train_copy.driver_gk == driver].driver_response.mean()})"
   ]
  },
  {
   "cell_type": "code",
   "execution_count": 55,
   "metadata": {
    "collapsed": true
   },
   "outputs": [],
   "source": [
    "data_train_copy['driver_response_rate'] = data_train_copy['driver_gk'].map(drivers_rate)\n",
    "data_test_copy['driver_response_rate'] = data_test_copy['driver_gk'].map(drivers_rate)"
   ]
  },
  {
   "cell_type": "code",
   "execution_count": 56,
   "metadata": {
    "scrolled": false
   },
   "outputs": [
    {
     "data": {
      "text/html": [
       "<div>\n",
       "<style>\n",
       "    .dataframe thead tr:only-child th {\n",
       "        text-align: right;\n",
       "    }\n",
       "\n",
       "    .dataframe thead th {\n",
       "        text-align: left;\n",
       "    }\n",
       "\n",
       "    .dataframe tbody tr th {\n",
       "        vertical-align: top;\n",
       "    }\n",
       "</style>\n",
       "<table border=\"1\" class=\"dataframe\">\n",
       "  <thead>\n",
       "    <tr style=\"text-align: right;\">\n",
       "      <th></th>\n",
       "      <th>driver_response</th>\n",
       "      <th>district_origin_rate</th>\n",
       "    </tr>\n",
       "  </thead>\n",
       "  <tbody>\n",
       "    <tr>\n",
       "      <th>driver_response</th>\n",
       "      <td>1.000000</td>\n",
       "      <td>0.286884</td>\n",
       "    </tr>\n",
       "    <tr>\n",
       "      <th>district_origin_rate</th>\n",
       "      <td>0.286884</td>\n",
       "      <td>1.000000</td>\n",
       "    </tr>\n",
       "  </tbody>\n",
       "</table>\n",
       "</div>"
      ],
      "text/plain": [
       "                      driver_response  district_origin_rate\n",
       "driver_response              1.000000              0.286884\n",
       "district_origin_rate         0.286884              1.000000"
      ]
     },
     "execution_count": 56,
     "metadata": {},
     "output_type": "execute_result"
    }
   ],
   "source": [
    "data_train_copy[['driver_response', 'district_origin_rate']].corr('spearman')"
   ]
  },
  {
   "cell_type": "markdown",
   "metadata": {},
   "source": [
    "#### order_count\n",
    "Количество водителей, которым предложен данный заказ:"
   ]
  },
  {
   "cell_type": "code",
   "execution_count": 57,
   "metadata": {
    "collapsed": true
   },
   "outputs": [],
   "source": [
    "orders_train = dict(zip(data_train_copy.order_gk.value_counts().index, \n",
    "                        data_train_copy.order_gk.value_counts().values))\n",
    "orders_test = dict(zip(data_test_copy.order_gk.value_counts().index, \n",
    "                        data_test_copy.order_gk.value_counts().values))"
   ]
  },
  {
   "cell_type": "code",
   "execution_count": 58,
   "metadata": {},
   "outputs": [
    {
     "name": "stdout",
     "output_type": "stream",
     "text": [
      "Wall time: 1.72 s\n"
     ]
    }
   ],
   "source": [
    "%%time\n",
    "data_train_copy['order_count'] = data_train_copy['order_gk'].map(orders_train)\n",
    "data_test_copy['order_count'] = data_test_copy['order_gk'].map(orders_test)"
   ]
  },
  {
   "cell_type": "markdown",
   "metadata": {},
   "source": [
    "#### driver_orders\n",
    "количество заказов, предложенных ему на трейне:"
   ]
  },
  {
   "cell_type": "code",
   "execution_count": 59,
   "metadata": {
    "collapsed": true
   },
   "outputs": [],
   "source": [
    "drivers_orders = {}\n",
    "for driver in data_train_copy.driver_gk.unique():\n",
    "    drivers_orders.update({driver:len(data_train_copy[data_train_copy.driver_gk == driver])})"
   ]
  },
  {
   "cell_type": "code",
   "execution_count": 60,
   "metadata": {
    "collapsed": true
   },
   "outputs": [],
   "source": [
    "data_train_copy['driver_orders'] = data_train_copy['driver_gk'].map(drivers_orders)\n",
    "data_test_copy['driver_orders'] = data_test_copy['driver_gk'].map(drivers_orders)"
   ]
  },
  {
   "cell_type": "markdown",
   "metadata": {},
   "source": [
    "#### driver_orders_accepted\n",
    "количество заказов, принятых им на трейне:"
   ]
  },
  {
   "cell_type": "code",
   "execution_count": 61,
   "metadata": {
    "collapsed": true
   },
   "outputs": [],
   "source": [
    "data_train_copy['driver_orders_accepted'] = data_train_copy['driver_orders'] * data_train_copy['driver_response_rate']\n",
    "data_test_copy['driver_orders_accepted'] = data_test_copy['driver_orders'] * data_test_copy['driver_response_rate']"
   ]
  },
  {
   "cell_type": "markdown",
   "metadata": {},
   "source": [
    "#### order_speed\n",
    "скорость на выполнении заказа"
   ]
  },
  {
   "cell_type": "code",
   "execution_count": 62,
   "metadata": {
    "collapsed": true
   },
   "outputs": [],
   "source": [
    "data_train_copy['order_speed'] = data_train_copy['distance_km'] / data_train_copy['duration_min']\n",
    "data_test_copy['order_speed'] = data_test_copy['distance_km'] / data_test_copy['duration_min']"
   ]
  },
  {
   "cell_type": "code",
   "execution_count": 63,
   "metadata": {
    "collapsed": true
   },
   "outputs": [],
   "source": [
    "def get_district_class(df, column, lower = True, test = False, df_train = None):\n",
    "    if test:\n",
    "        if lower:\n",
    "            district_indexes = df_train.groupby(column)['driver_response'].mean()[df_train.groupby(column)['driver_response'].mean() < 0.5].index\n",
    "        else:\n",
    "            district_indexes = df_train.groupby(column)['driver_response'].mean()[df_train.groupby(column)['driver_response'].mean() > 0.8].index\n",
    "    else:    \n",
    "        if lower:\n",
    "            district_indexes = df.groupby(column)['driver_response'].mean()[df.groupby(column)['driver_response'].mean() < 0.5].index\n",
    "        else:\n",
    "            district_indexes = df.groupby(column)['driver_response'].mean()[df.groupby(column)['driver_response'].mean() > 0.8].index\n",
    "    new_column_values = np.zeros(df.shape[0])\n",
    "    iter_arr = 0\n",
    "    for i in df[column].values:\n",
    "        if i in district_indexes:\n",
    "            new_column_values[iter_arr] = 1\n",
    "        iter_arr += 1\n",
    "    return new_column_values"
   ]
  },
  {
   "cell_type": "code",
   "execution_count": 64,
   "metadata": {
    "collapsed": true
   },
   "outputs": [],
   "source": [
    "data_train_copy['low_driver_rate'] = get_district_class(data_train_copy, 'district_driver', True)\n",
    "data_train_copy['high_driver_rate'] = get_district_class(data_train_copy, 'district_driver', False)\n",
    "data_train_copy['low_origin_rate'] = get_district_class(data_train_copy, 'district_origin', True)\n",
    "data_train_copy['high_origin_rate'] = get_district_class(data_train_copy, 'district_origin', False)"
   ]
  },
  {
   "cell_type": "code",
   "execution_count": 65,
   "metadata": {
    "collapsed": true
   },
   "outputs": [],
   "source": [
    "data_test_copy['low_driver_rate'] = get_district_class(data_test_copy, 'district_driver', True, True, data_train_copy)\n",
    "data_test_copy['high_driver_rate'] = get_district_class(data_test_copy, 'district_driver', False, True, data_train_copy)\n",
    "data_test_copy['low_origin_rate'] = get_district_class(data_test_copy, 'district_origin', True, True, data_train_copy)\n",
    "data_test_copy['high_origin_rate'] = get_district_class(data_test_copy, 'district_origin', False, True, data_train_copy)"
   ]
  },
  {
   "cell_type": "markdown",
   "metadata": {},
   "source": [
    "#### driver_districts driver_origins"
   ]
  },
  {
   "cell_type": "markdown",
   "metadata": {},
   "source": [
    "Признак: количество районов, где водитель был, и количество районов, куда ему поступали заявки"
   ]
  },
  {
   "cell_type": "code",
   "execution_count": 25,
   "metadata": {
    "collapsed": true
   },
   "outputs": [],
   "source": [
    "driver_districts = {}\n",
    "for i in data_train_copy.driver_gk.unique():\n",
    "    driver_districts.update({i:data_train_copy[data_train_copy.driver_gk == i]['district_driver'].nunique()})\n",
    "    \n",
    "\n",
    "driver_origins = {}\n",
    "for i in data_train_copy.driver_gk.unique():\n",
    "    driver_origins.update({i:data_train_copy[data_train_copy.driver_gk == i]['district_origin'].nunique()})\n",
    "    \n",
    "\n",
    "data_train_copy['driver_districts'] = data_train_copy.driver_gk.map(driver_districts)\n",
    "data_train_copy['driver_origins'] = data_train_copy.driver_gk.map(driver_origins)\n",
    "data_test_copy['driver_districts'] = data_test_copy.driver_gk.map(driver_districts)\n",
    "data_test_copy['driver_origins'] = data_test_copy.driver_gk.map(driver_origins)"
   ]
  },
  {
   "cell_type": "markdown",
   "metadata": {},
   "source": [
    "#### driver_districts_accepted driver_origins_accepted"
   ]
  },
  {
   "cell_type": "markdown",
   "metadata": {},
   "source": [
    "Признак: количество районов, где водитель был, и количество районов, куда ему поступали заявки, при условии, что он согласился:"
   ]
  },
  {
   "cell_type": "code",
   "execution_count": 26,
   "metadata": {
    "collapsed": true
   },
   "outputs": [],
   "source": [
    "driver_districts_accepted = {}\n",
    "for i in data_train_copy.driver_gk.unique():\n",
    "    driver_districts_accepted.update({i:data_train_copy[(data_train_copy.driver_gk == i)&(data_train_copy.driver_response == 1)]['district_driver'].nunique()})\n",
    "    \n",
    "\n",
    "driver_origins_accepted = {}\n",
    "for i in data_train_copy.driver_gk.unique():\n",
    "    driver_origins_accepted.update({i:data_train_copy[(data_train_copy.driver_gk == i)&(data_train_copy.driver_response == 1)]['district_origin'].nunique()})\n",
    "    \n",
    "\n",
    "data_train_copy['driver_districts_accepted'] = data_train_copy.driver_gk.map(driver_districts_accepted)\n",
    "data_train_copy['driver_origins_accepted'] = data_train_copy.driver_gk.map(driver_origins_accepted)\n",
    "data_test_copy['driver_districts_accepted'] = data_test_copy.driver_gk.map(driver_districts_accepted)\n",
    "data_test_copy['driver_origins_accepted'] = data_test_copy.driver_gk.map(driver_origins_accepted)"
   ]
  },
  {
   "cell_type": "markdown",
   "metadata": {},
   "source": [
    "#### driver_districts_accepted_rate origin_districts_accepted_rate"
   ]
  },
  {
   "cell_type": "markdown",
   "metadata": {},
   "source": [
    "Средний ответ водителя для района, где он, и куда заказ:"
   ]
  },
  {
   "cell_type": "code",
   "execution_count": 27,
   "metadata": {
    "collapsed": true
   },
   "outputs": [],
   "source": [
    "driver_districts_accepted_rate = {}\n",
    "for i in data_train_copy.district_driver.unique():\n",
    "    driver_districts_accepted_rate.update({i:data_train_copy[data_train_copy.district_driver == i]['driver_response'].mean()})\n",
    "    \n",
    "\n",
    "origin_districts_accepted_rate = {}\n",
    "for i in data_train_copy.district_origin.unique():\n",
    "    origin_districts_accepted_rate.update({i:data_train_copy[data_train_copy.district_origin == i]['driver_response'].mean()})\n",
    "    \n",
    "\n",
    "data_train_copy['driver_districts_accepted_rate'] = data_train_copy.district_driver.map(driver_districts_accepted_rate)\n",
    "data_train_copy['origin_districts_accepted_rate'] = data_train_copy.district_origin.map(origin_districts_accepted_rate)\n",
    "data_test_copy['driver_districts_accepted_rate'] = data_test_copy.district_driver.map(driver_districts_accepted_rate)\n",
    "data_test_copy['origin_districts_accepted_rate'] = data_test_copy.district_origin.map(origin_districts_accepted_rate)"
   ]
  },
  {
   "cell_type": "markdown",
   "metadata": {},
   "source": [
    "Время до клиента"
   ]
  },
  {
   "cell_type": "code",
   "execution_count": 29,
   "metadata": {
    "collapsed": true
   },
   "outputs": [],
   "source": [
    "data_train_copy['time_to_origin'] = data_train_copy['distance_to_origin']/data_train_copy['order_speed']\n",
    "data_test_copy['time_to_origin'] = data_test_copy['distance_to_origin']/data_test_copy['order_speed']"
   ]
  },
  {
   "cell_type": "markdown",
   "metadata": {},
   "source": [
    "Еще параметры водителя - параметры распределения временных признаков"
   ]
  },
  {
   "cell_type": "code",
   "execution_count": 30,
   "metadata": {
    "collapsed": true
   },
   "outputs": [],
   "source": [
    "driver_week_std = {}\n",
    "for i in data_train_copy.driver_gk.unique():\n",
    "    driver_week_std.update({i:data_train_copy[(data_train_copy.driver_gk == i)&(data_train_copy.driver_response == 1)]['weekday_key'].std()})\n",
    "\n",
    "driver_hour_std = {}\n",
    "for i in data_train_copy.driver_gk.unique():\n",
    "    driver_hour_std.update({i:data_train_copy[(data_train_copy.driver_gk == i)&(data_train_copy.driver_response == 1)]['hour_key'].std()})\n",
    "\n",
    "driver_week_mean = {}\n",
    "for i in data_train_copy.driver_gk.unique():\n",
    "    driver_week_mean.update({i:data_train_copy[(data_train_copy.driver_gk == i)&(data_train_copy.driver_response == 1)]['weekday_key'].mean()})\n",
    "\n",
    "driver_hour_mean = {}\n",
    "for i in data_train_copy.driver_gk.unique():\n",
    "    driver_hour_mean.update({i:data_train_copy[(data_train_copy.driver_gk == i)&(data_train_copy.driver_response == 1)]['hour_key'].mean()})\n",
    "\n",
    "data_train_copy['driver_week_std'] = data_train_copy.driver_gk.map(driver_week_std)\n",
    "data_train_copy['driver_week_mean'] = data_train_copy.driver_gk.map(driver_week_mean)\n",
    "data_test_copy['driver_week_std'] = data_test_copy.driver_gk.map(driver_week_std)\n",
    "data_test_copy['driver_week_mean'] = data_test_copy.driver_gk.map(driver_week_mean)\n",
    "data_train_copy['driver_hour_std'] = data_train_copy.driver_gk.map(driver_hour_std)\n",
    "data_train_copy['driver_hour_mean'] = data_train_copy.driver_gk.map(driver_hour_mean)\n",
    "data_test_copy['driver_hour_std'] = data_test_copy.driver_gk.map(driver_hour_std)\n",
    "data_test_copy['driver_hour_mean'] = data_test_copy.driver_gk.map(driver_hour_mean)"
   ]
  },
  {
   "cell_type": "markdown",
   "metadata": {},
   "source": [
    "Также добавим разницу между средним значением часа для водителя и часом заказа ( а также недели) в абс значении"
   ]
  },
  {
   "cell_type": "code",
   "execution_count": 31,
   "metadata": {
    "collapsed": true
   },
   "outputs": [],
   "source": [
    "data_train_copy['diff_hour'] = np.abs(data_train_copy['hour_key'] - data_train_copy['driver_hour_mean'])\n",
    "data_train_copy['diff_weekday'] = np.abs(data_train_copy['weekday_key'] - data_train_copy['driver_week_mean'])\n",
    "data_test_copy['diff_hour'] = np.abs(data_test_copy['hour_key'] - data_test_copy['driver_hour_mean'])\n",
    "data_test_copy['diff_weekday'] = np.abs(data_test_copy['weekday_key'] - data_test_copy['driver_week_mean'])"
   ]
  },
  {
   "cell_type": "markdown",
   "metadata": {},
   "source": [
    "расстояние до центра Москвы:"
   ]
  },
  {
   "cell_type": "code",
   "execution_count": 32,
   "metadata": {
    "collapsed": true
   },
   "outputs": [],
   "source": [
    "def get_center_distance(latitude1, longitude1, latitude2, longitude2):\n",
    "    vincenty_distance = np.zeros(latitude2.shape[0])\n",
    "    i = 0\n",
    "    for lat2,lng2 in zip(latitude2, longitude2):\n",
    "        vincenty_distance[i] = vincenty((longitude1, latitude1), (lng2, lat2)).kilometers\n",
    "        i += 1\n",
    "    return vincenty_distance\n",
    "\n",
    "c_m = [55.7547, 37.6212]\n",
    "\n",
    "data_train_copy.loc[:, 'distance_to_center_origin'] = get_center_distance(c_m[0], \n",
    "                                             c_m[1], \n",
    "                                             data_train_copy['origin_order_latitude'].values, \n",
    "                                             data_train_copy['origin_order_longitude'].values)\n",
    "\n",
    "data_test_copy.loc[:, 'distance_to_center_origin'] = get_center_distance(c_m[0], \n",
    "                                             c_m[1], \n",
    "                                             data_test_copy['origin_order_latitude'].values, \n",
    "                                             data_test_copy['origin_order_longitude'].values)\n",
    "\n",
    "data_train_copy.loc[:, 'distance_to_center_driver'] = get_center_distance(c_m[0], \n",
    "                                             c_m[1], \n",
    "                                             data_train_copy['driver_latitude'].values, \n",
    "                                             data_train_copy['driver_longitude'].values)\n",
    "\n",
    "data_test_copy.loc[:, 'distance_to_center_driver'] = get_center_distance(c_m[0], \n",
    "                                             c_m[1], \n",
    "                                             data_test_copy['driver_latitude'].values, \n",
    "                                             data_test_copy['driver_longitude'].values)\n",
    "\n",
    "data_train_copy['to_center_dist'] = data_train_copy['distance_to_center_driver'] - data_train_copy['distance_to_center_origin']\n",
    "data_test_copy['to_center_dist'] = data_test_copy['distance_to_center_driver'] - data_test_copy['distance_to_center_origin']"
   ]
  },
  {
   "cell_type": "code",
   "execution_count": 33,
   "metadata": {},
   "outputs": [
    {
     "data": {
      "text/html": [
       "<div>\n",
       "<style>\n",
       "    .dataframe thead tr:only-child th {\n",
       "        text-align: right;\n",
       "    }\n",
       "\n",
       "    .dataframe thead th {\n",
       "        text-align: left;\n",
       "    }\n",
       "\n",
       "    .dataframe tbody tr th {\n",
       "        vertical-align: top;\n",
       "    }\n",
       "</style>\n",
       "<table border=\"1\" class=\"dataframe\">\n",
       "  <thead>\n",
       "    <tr style=\"text-align: right;\">\n",
       "      <th></th>\n",
       "      <th>offer_gk</th>\n",
       "      <th>weekday_key</th>\n",
       "      <th>hour_key</th>\n",
       "      <th>driver_gk</th>\n",
       "      <th>order_gk</th>\n",
       "      <th>driver_latitude</th>\n",
       "      <th>driver_longitude</th>\n",
       "      <th>origin_order_latitude</th>\n",
       "      <th>origin_order_longitude</th>\n",
       "      <th>distance_km</th>\n",
       "      <th>...</th>\n",
       "      <th>time_to_origin</th>\n",
       "      <th>driver_week_std</th>\n",
       "      <th>driver_week_mean</th>\n",
       "      <th>driver_hour_std</th>\n",
       "      <th>driver_hour_mean</th>\n",
       "      <th>diff_hour</th>\n",
       "      <th>diff_weekday</th>\n",
       "      <th>distance_to_center_origin</th>\n",
       "      <th>distance_to_center_driver</th>\n",
       "      <th>to_center_dist</th>\n",
       "    </tr>\n",
       "  </thead>\n",
       "  <tbody>\n",
       "    <tr>\n",
       "      <th>0</th>\n",
       "      <td>152446</td>\n",
       "      <td>5</td>\n",
       "      <td>0</td>\n",
       "      <td>5021</td>\n",
       "      <td>648419</td>\n",
       "      <td>55.763302</td>\n",
       "      <td>37.593368</td>\n",
       "      <td>55.758230</td>\n",
       "      <td>37.613689</td>\n",
       "      <td>17.445000</td>\n",
       "      <td>...</td>\n",
       "      <td>3.211843</td>\n",
       "      <td>2.072660</td>\n",
       "      <td>3.469388</td>\n",
       "      <td>6.607111</td>\n",
       "      <td>13.632653</td>\n",
       "      <td>13.632653</td>\n",
       "      <td>1.530612</td>\n",
       "      <td>0.889991</td>\n",
       "      <td>3.181057</td>\n",
       "      <td>2.291067</td>\n",
       "    </tr>\n",
       "    <tr>\n",
       "      <th>1</th>\n",
       "      <td>281031</td>\n",
       "      <td>5</td>\n",
       "      <td>7</td>\n",
       "      <td>5817</td>\n",
       "      <td>405907</td>\n",
       "      <td>55.755470</td>\n",
       "      <td>37.648689</td>\n",
       "      <td>55.741544</td>\n",
       "      <td>37.622868</td>\n",
       "      <td>12.661445</td>\n",
       "      <td>...</td>\n",
       "      <td>6.555218</td>\n",
       "      <td>2.053035</td>\n",
       "      <td>3.166667</td>\n",
       "      <td>7.413794</td>\n",
       "      <td>11.370370</td>\n",
       "      <td>4.370370</td>\n",
       "      <td>1.833333</td>\n",
       "      <td>1.176091</td>\n",
       "      <td>3.051749</td>\n",
       "      <td>1.875658</td>\n",
       "    </tr>\n",
       "    <tr>\n",
       "      <th>2</th>\n",
       "      <td>779964</td>\n",
       "      <td>5</td>\n",
       "      <td>1</td>\n",
       "      <td>3870</td>\n",
       "      <td>894998</td>\n",
       "      <td>55.619002</td>\n",
       "      <td>37.596140</td>\n",
       "      <td>55.615923</td>\n",
       "      <td>37.607872</td>\n",
       "      <td>19.761181</td>\n",
       "      <td>...</td>\n",
       "      <td>1.964883</td>\n",
       "      <td>1.966840</td>\n",
       "      <td>3.146119</td>\n",
       "      <td>7.039667</td>\n",
       "      <td>13.826484</td>\n",
       "      <td>12.826484</td>\n",
       "      <td>1.853881</td>\n",
       "      <td>12.341621</td>\n",
       "      <td>12.300337</td>\n",
       "      <td>-0.041284</td>\n",
       "    </tr>\n",
       "    <tr>\n",
       "      <th>3</th>\n",
       "      <td>16720</td>\n",
       "      <td>5</td>\n",
       "      <td>13</td>\n",
       "      <td>5607</td>\n",
       "      <td>505054</td>\n",
       "      <td>55.620905</td>\n",
       "      <td>37.606550</td>\n",
       "      <td>55.614517</td>\n",
       "      <td>37.591161</td>\n",
       "      <td>14.576858</td>\n",
       "      <td>...</td>\n",
       "      <td>2.713209</td>\n",
       "      <td>1.706125</td>\n",
       "      <td>3.366412</td>\n",
       "      <td>4.844245</td>\n",
       "      <td>15.625954</td>\n",
       "      <td>2.625954</td>\n",
       "      <td>1.633588</td>\n",
       "      <td>12.819306</td>\n",
       "      <td>11.924271</td>\n",
       "      <td>-0.895035</td>\n",
       "    </tr>\n",
       "    <tr>\n",
       "      <th>4</th>\n",
       "      <td>492087</td>\n",
       "      <td>5</td>\n",
       "      <td>13</td>\n",
       "      <td>3786</td>\n",
       "      <td>459994</td>\n",
       "      <td>55.893228</td>\n",
       "      <td>37.673552</td>\n",
       "      <td>55.888084</td>\n",
       "      <td>37.662087</td>\n",
       "      <td>15.943624</td>\n",
       "      <td>...</td>\n",
       "      <td>1.630200</td>\n",
       "      <td>1.638936</td>\n",
       "      <td>3.370370</td>\n",
       "      <td>6.532634</td>\n",
       "      <td>13.728395</td>\n",
       "      <td>0.728395</td>\n",
       "      <td>1.629630</td>\n",
       "      <td>12.616616</td>\n",
       "      <td>13.535874</td>\n",
       "      <td>0.919258</td>\n",
       "    </tr>\n",
       "  </tbody>\n",
       "</table>\n",
       "<p>5 rows × 47 columns</p>\n",
       "</div>"
      ],
      "text/plain": [
       "   offer_gk  weekday_key  hour_key  driver_gk  order_gk  driver_latitude  \\\n",
       "0    152446            5         0       5021    648419        55.763302   \n",
       "1    281031            5         7       5817    405907        55.755470   \n",
       "2    779964            5         1       3870    894998        55.619002   \n",
       "3     16720            5        13       5607    505054        55.620905   \n",
       "4    492087            5        13       3786    459994        55.893228   \n",
       "\n",
       "   driver_longitude  origin_order_latitude  origin_order_longitude  \\\n",
       "0         37.593368              55.758230               37.613689   \n",
       "1         37.648689              55.741544               37.622868   \n",
       "2         37.596140              55.615923               37.607872   \n",
       "3         37.606550              55.614517               37.591161   \n",
       "4         37.673552              55.888084               37.662087   \n",
       "\n",
       "   distance_km       ...        time_to_origin driver_week_std  \\\n",
       "0    17.445000       ...              3.211843        2.072660   \n",
       "1    12.661445       ...              6.555218        2.053035   \n",
       "2    19.761181       ...              1.964883        1.966840   \n",
       "3    14.576858       ...              2.713209        1.706125   \n",
       "4    15.943624       ...              1.630200        1.638936   \n",
       "\n",
       "  driver_week_mean  driver_hour_std  driver_hour_mean  diff_hour  \\\n",
       "0         3.469388         6.607111         13.632653  13.632653   \n",
       "1         3.166667         7.413794         11.370370   4.370370   \n",
       "2         3.146119         7.039667         13.826484  12.826484   \n",
       "3         3.366412         4.844245         15.625954   2.625954   \n",
       "4         3.370370         6.532634         13.728395   0.728395   \n",
       "\n",
       "   diff_weekday  distance_to_center_origin  distance_to_center_driver  \\\n",
       "0      1.530612                   0.889991                   3.181057   \n",
       "1      1.833333                   1.176091                   3.051749   \n",
       "2      1.853881                  12.341621                  12.300337   \n",
       "3      1.633588                  12.819306                  11.924271   \n",
       "4      1.629630                  12.616616                  13.535874   \n",
       "\n",
       "   to_center_dist  \n",
       "0        2.291067  \n",
       "1        1.875658  \n",
       "2       -0.041284  \n",
       "3       -0.895035  \n",
       "4        0.919258  \n",
       "\n",
       "[5 rows x 47 columns]"
      ]
     },
     "execution_count": 33,
     "metadata": {},
     "output_type": "execute_result"
    }
   ],
   "source": [
    "data_test_copy.head()"
   ]
  },
  {
   "cell_type": "code",
   "execution_count": 34,
   "metadata": {},
   "outputs": [
    {
     "data": {
      "text/html": [
       "<div>\n",
       "<style>\n",
       "    .dataframe thead tr:only-child th {\n",
       "        text-align: right;\n",
       "    }\n",
       "\n",
       "    .dataframe thead th {\n",
       "        text-align: left;\n",
       "    }\n",
       "\n",
       "    .dataframe tbody tr th {\n",
       "        vertical-align: top;\n",
       "    }\n",
       "</style>\n",
       "<table border=\"1\" class=\"dataframe\">\n",
       "  <thead>\n",
       "    <tr style=\"text-align: right;\">\n",
       "      <th></th>\n",
       "      <th>offer_gk</th>\n",
       "      <th>weekday_key</th>\n",
       "      <th>hour_key</th>\n",
       "      <th>driver_gk</th>\n",
       "      <th>order_gk</th>\n",
       "      <th>driver_latitude</th>\n",
       "      <th>driver_longitude</th>\n",
       "      <th>origin_order_latitude</th>\n",
       "      <th>origin_order_longitude</th>\n",
       "      <th>distance_km</th>\n",
       "      <th>...</th>\n",
       "      <th>time_to_origin</th>\n",
       "      <th>driver_week_std</th>\n",
       "      <th>driver_week_mean</th>\n",
       "      <th>driver_hour_std</th>\n",
       "      <th>driver_hour_mean</th>\n",
       "      <th>diff_hour</th>\n",
       "      <th>diff_weekday</th>\n",
       "      <th>distance_to_center_origin</th>\n",
       "      <th>distance_to_center_driver</th>\n",
       "      <th>to_center_dist</th>\n",
       "    </tr>\n",
       "  </thead>\n",
       "  <tbody>\n",
       "    <tr>\n",
       "      <th>0</th>\n",
       "      <td>1105373</td>\n",
       "      <td>5</td>\n",
       "      <td>20</td>\n",
       "      <td>6080</td>\n",
       "      <td>174182</td>\n",
       "      <td>55.818842</td>\n",
       "      <td>37.334562</td>\n",
       "      <td>55.814567</td>\n",
       "      <td>37.355010</td>\n",
       "      <td>15.688855</td>\n",
       "      <td>...</td>\n",
       "      <td>3.045752</td>\n",
       "      <td>1.77443</td>\n",
       "      <td>3.819876</td>\n",
       "      <td>4.21686</td>\n",
       "      <td>11.360248</td>\n",
       "      <td>8.639752</td>\n",
       "      <td>1.180124</td>\n",
       "      <td>30.014260</td>\n",
       "      <td>32.314916</td>\n",
       "      <td>2.300656</td>\n",
       "    </tr>\n",
       "    <tr>\n",
       "      <th>1</th>\n",
       "      <td>759733</td>\n",
       "      <td>5</td>\n",
       "      <td>14</td>\n",
       "      <td>6080</td>\n",
       "      <td>358774</td>\n",
       "      <td>55.805342</td>\n",
       "      <td>37.515023</td>\n",
       "      <td>55.819329</td>\n",
       "      <td>37.466398</td>\n",
       "      <td>18.802000</td>\n",
       "      <td>...</td>\n",
       "      <td>7.425724</td>\n",
       "      <td>1.77443</td>\n",
       "      <td>3.819876</td>\n",
       "      <td>4.21686</td>\n",
       "      <td>11.360248</td>\n",
       "      <td>2.639752</td>\n",
       "      <td>1.180124</td>\n",
       "      <td>18.105605</td>\n",
       "      <td>12.605104</td>\n",
       "      <td>-5.500502</td>\n",
       "    </tr>\n",
       "    <tr>\n",
       "      <th>2</th>\n",
       "      <td>416977</td>\n",
       "      <td>6</td>\n",
       "      <td>14</td>\n",
       "      <td>6080</td>\n",
       "      <td>866260</td>\n",
       "      <td>55.813978</td>\n",
       "      <td>37.347688</td>\n",
       "      <td>55.814827</td>\n",
       "      <td>37.354074</td>\n",
       "      <td>6.747000</td>\n",
       "      <td>...</td>\n",
       "      <td>1.035233</td>\n",
       "      <td>1.77443</td>\n",
       "      <td>3.819876</td>\n",
       "      <td>4.21686</td>\n",
       "      <td>11.360248</td>\n",
       "      <td>2.639752</td>\n",
       "      <td>2.180124</td>\n",
       "      <td>30.120575</td>\n",
       "      <td>30.805613</td>\n",
       "      <td>0.685038</td>\n",
       "    </tr>\n",
       "    <tr>\n",
       "      <th>3</th>\n",
       "      <td>889660</td>\n",
       "      <td>2</td>\n",
       "      <td>6</td>\n",
       "      <td>6080</td>\n",
       "      <td>163522</td>\n",
       "      <td>55.745922</td>\n",
       "      <td>37.421748</td>\n",
       "      <td>55.743469</td>\n",
       "      <td>37.431130</td>\n",
       "      <td>19.724066</td>\n",
       "      <td>...</td>\n",
       "      <td>1.694680</td>\n",
       "      <td>1.77443</td>\n",
       "      <td>3.819876</td>\n",
       "      <td>4.21686</td>\n",
       "      <td>11.360248</td>\n",
       "      <td>5.360248</td>\n",
       "      <td>1.819876</td>\n",
       "      <td>21.118747</td>\n",
       "      <td>22.150263</td>\n",
       "      <td>1.031517</td>\n",
       "    </tr>\n",
       "    <tr>\n",
       "      <th>4</th>\n",
       "      <td>1120055</td>\n",
       "      <td>4</td>\n",
       "      <td>16</td>\n",
       "      <td>6080</td>\n",
       "      <td>506710</td>\n",
       "      <td>55.803578</td>\n",
       "      <td>37.521602</td>\n",
       "      <td>55.812559</td>\n",
       "      <td>37.527407</td>\n",
       "      <td>12.383000</td>\n",
       "      <td>...</td>\n",
       "      <td>1.589417</td>\n",
       "      <td>1.77443</td>\n",
       "      <td>3.819876</td>\n",
       "      <td>4.21686</td>\n",
       "      <td>11.360248</td>\n",
       "      <td>4.639752</td>\n",
       "      <td>0.180124</td>\n",
       "      <td>11.597003</td>\n",
       "      <td>11.867619</td>\n",
       "      <td>0.270616</td>\n",
       "    </tr>\n",
       "  </tbody>\n",
       "</table>\n",
       "<p>5 rows × 47 columns</p>\n",
       "</div>"
      ],
      "text/plain": [
       "   offer_gk  weekday_key  hour_key  driver_gk  order_gk  driver_latitude  \\\n",
       "0   1105373            5        20       6080    174182        55.818842   \n",
       "1    759733            5        14       6080    358774        55.805342   \n",
       "2    416977            6        14       6080    866260        55.813978   \n",
       "3    889660            2         6       6080    163522        55.745922   \n",
       "4   1120055            4        16       6080    506710        55.803578   \n",
       "\n",
       "   driver_longitude  origin_order_latitude  origin_order_longitude  \\\n",
       "0         37.334562              55.814567               37.355010   \n",
       "1         37.515023              55.819329               37.466398   \n",
       "2         37.347688              55.814827               37.354074   \n",
       "3         37.421748              55.743469               37.431130   \n",
       "4         37.521602              55.812559               37.527407   \n",
       "\n",
       "   distance_km       ...        time_to_origin driver_week_std  \\\n",
       "0    15.688855       ...              3.045752         1.77443   \n",
       "1    18.802000       ...              7.425724         1.77443   \n",
       "2     6.747000       ...              1.035233         1.77443   \n",
       "3    19.724066       ...              1.694680         1.77443   \n",
       "4    12.383000       ...              1.589417         1.77443   \n",
       "\n",
       "  driver_week_mean  driver_hour_std  driver_hour_mean  diff_hour  \\\n",
       "0         3.819876          4.21686         11.360248   8.639752   \n",
       "1         3.819876          4.21686         11.360248   2.639752   \n",
       "2         3.819876          4.21686         11.360248   2.639752   \n",
       "3         3.819876          4.21686         11.360248   5.360248   \n",
       "4         3.819876          4.21686         11.360248   4.639752   \n",
       "\n",
       "   diff_weekday  distance_to_center_origin  distance_to_center_driver  \\\n",
       "0      1.180124                  30.014260                  32.314916   \n",
       "1      1.180124                  18.105605                  12.605104   \n",
       "2      2.180124                  30.120575                  30.805613   \n",
       "3      1.819876                  21.118747                  22.150263   \n",
       "4      0.180124                  11.597003                  11.867619   \n",
       "\n",
       "   to_center_dist  \n",
       "0        2.300656  \n",
       "1       -5.500502  \n",
       "2        0.685038  \n",
       "3        1.031517  \n",
       "4        0.270616  \n",
       "\n",
       "[5 rows x 47 columns]"
      ]
     },
     "execution_count": 34,
     "metadata": {},
     "output_type": "execute_result"
    }
   ],
   "source": [
    "data_train_copy.head()"
   ]
  },
  {
   "cell_type": "code",
   "execution_count": 35,
   "metadata": {},
   "outputs": [
    {
     "data": {
      "text/plain": [
       "((237813, 47), (892557, 47))"
      ]
     },
     "execution_count": 35,
     "metadata": {},
     "output_type": "execute_result"
    }
   ],
   "source": [
    "data_test_copy.shape, data_train_copy.shape"
   ]
  },
  {
   "cell_type": "code",
   "execution_count": 36,
   "metadata": {},
   "outputs": [
    {
     "data": {
      "text/plain": [
       "((892557, 47), (237813, 47))"
      ]
     },
     "execution_count": 36,
     "metadata": {},
     "output_type": "execute_result"
    }
   ],
   "source": [
    "data_train_copy.shape, data_test_copy.shape"
   ]
  },
  {
   "cell_type": "code",
   "execution_count": 37,
   "metadata": {
    "collapsed": true
   },
   "outputs": [],
   "source": [
    "# data_train_copy.to_csv('nikita_47_features_train.csv', index = False)\n",
    "# data_test_copy.to_csv('nikita_47_features_test.csv', index = False)"
   ]
  },
  {
   "cell_type": "code",
   "execution_count": 2,
   "metadata": {
    "collapsed": true
   },
   "outputs": [],
   "source": [
    "data_train_copy = pd.read_csv('nikita_47_features_train.csv')"
   ]
  },
  {
   "cell_type": "code",
   "execution_count": 3,
   "metadata": {
    "collapsed": true
   },
   "outputs": [],
   "source": [
    "data_test_copy = pd.read_csv('nikita_47_features_test.csv')"
   ]
  },
  {
   "cell_type": "code",
   "execution_count": 4,
   "metadata": {},
   "outputs": [
    {
     "data": {
      "text/html": [
       "<div>\n",
       "<style>\n",
       "    .dataframe thead tr:only-child th {\n",
       "        text-align: right;\n",
       "    }\n",
       "\n",
       "    .dataframe thead th {\n",
       "        text-align: left;\n",
       "    }\n",
       "\n",
       "    .dataframe tbody tr th {\n",
       "        vertical-align: top;\n",
       "    }\n",
       "</style>\n",
       "<table border=\"1\" class=\"dataframe\">\n",
       "  <thead>\n",
       "    <tr style=\"text-align: right;\">\n",
       "      <th></th>\n",
       "      <th>offer_gk</th>\n",
       "      <th>weekday_key</th>\n",
       "      <th>hour_key</th>\n",
       "      <th>driver_gk</th>\n",
       "      <th>order_gk</th>\n",
       "      <th>driver_latitude</th>\n",
       "      <th>driver_longitude</th>\n",
       "      <th>origin_order_latitude</th>\n",
       "      <th>origin_order_longitude</th>\n",
       "      <th>distance_km</th>\n",
       "      <th>...</th>\n",
       "      <th>time_to_origin</th>\n",
       "      <th>driver_week_std</th>\n",
       "      <th>driver_week_mean</th>\n",
       "      <th>driver_hour_std</th>\n",
       "      <th>driver_hour_mean</th>\n",
       "      <th>diff_hour</th>\n",
       "      <th>diff_weekday</th>\n",
       "      <th>distance_to_center_origin</th>\n",
       "      <th>distance_to_center_driver</th>\n",
       "      <th>to_center_dist</th>\n",
       "    </tr>\n",
       "  </thead>\n",
       "  <tbody>\n",
       "    <tr>\n",
       "      <th>0</th>\n",
       "      <td>1105373</td>\n",
       "      <td>5</td>\n",
       "      <td>20</td>\n",
       "      <td>6080</td>\n",
       "      <td>174182</td>\n",
       "      <td>55.818842</td>\n",
       "      <td>37.334562</td>\n",
       "      <td>55.814567</td>\n",
       "      <td>37.355010</td>\n",
       "      <td>15.688855</td>\n",
       "      <td>...</td>\n",
       "      <td>3.045752</td>\n",
       "      <td>1.77443</td>\n",
       "      <td>3.819876</td>\n",
       "      <td>4.21686</td>\n",
       "      <td>11.360248</td>\n",
       "      <td>8.639752</td>\n",
       "      <td>1.180124</td>\n",
       "      <td>30.014260</td>\n",
       "      <td>32.314916</td>\n",
       "      <td>2.300656</td>\n",
       "    </tr>\n",
       "    <tr>\n",
       "      <th>1</th>\n",
       "      <td>759733</td>\n",
       "      <td>5</td>\n",
       "      <td>14</td>\n",
       "      <td>6080</td>\n",
       "      <td>358774</td>\n",
       "      <td>55.805342</td>\n",
       "      <td>37.515023</td>\n",
       "      <td>55.819329</td>\n",
       "      <td>37.466398</td>\n",
       "      <td>18.802000</td>\n",
       "      <td>...</td>\n",
       "      <td>7.425724</td>\n",
       "      <td>1.77443</td>\n",
       "      <td>3.819876</td>\n",
       "      <td>4.21686</td>\n",
       "      <td>11.360248</td>\n",
       "      <td>2.639752</td>\n",
       "      <td>1.180124</td>\n",
       "      <td>18.105605</td>\n",
       "      <td>12.605104</td>\n",
       "      <td>-5.500502</td>\n",
       "    </tr>\n",
       "    <tr>\n",
       "      <th>2</th>\n",
       "      <td>416977</td>\n",
       "      <td>6</td>\n",
       "      <td>14</td>\n",
       "      <td>6080</td>\n",
       "      <td>866260</td>\n",
       "      <td>55.813978</td>\n",
       "      <td>37.347688</td>\n",
       "      <td>55.814827</td>\n",
       "      <td>37.354074</td>\n",
       "      <td>6.747000</td>\n",
       "      <td>...</td>\n",
       "      <td>1.035233</td>\n",
       "      <td>1.77443</td>\n",
       "      <td>3.819876</td>\n",
       "      <td>4.21686</td>\n",
       "      <td>11.360248</td>\n",
       "      <td>2.639752</td>\n",
       "      <td>2.180124</td>\n",
       "      <td>30.120575</td>\n",
       "      <td>30.805613</td>\n",
       "      <td>0.685038</td>\n",
       "    </tr>\n",
       "    <tr>\n",
       "      <th>3</th>\n",
       "      <td>889660</td>\n",
       "      <td>2</td>\n",
       "      <td>6</td>\n",
       "      <td>6080</td>\n",
       "      <td>163522</td>\n",
       "      <td>55.745922</td>\n",
       "      <td>37.421748</td>\n",
       "      <td>55.743469</td>\n",
       "      <td>37.431130</td>\n",
       "      <td>19.724066</td>\n",
       "      <td>...</td>\n",
       "      <td>1.694680</td>\n",
       "      <td>1.77443</td>\n",
       "      <td>3.819876</td>\n",
       "      <td>4.21686</td>\n",
       "      <td>11.360248</td>\n",
       "      <td>5.360248</td>\n",
       "      <td>1.819876</td>\n",
       "      <td>21.118747</td>\n",
       "      <td>22.150263</td>\n",
       "      <td>1.031517</td>\n",
       "    </tr>\n",
       "    <tr>\n",
       "      <th>4</th>\n",
       "      <td>1120055</td>\n",
       "      <td>4</td>\n",
       "      <td>16</td>\n",
       "      <td>6080</td>\n",
       "      <td>506710</td>\n",
       "      <td>55.803578</td>\n",
       "      <td>37.521602</td>\n",
       "      <td>55.812559</td>\n",
       "      <td>37.527407</td>\n",
       "      <td>12.383000</td>\n",
       "      <td>...</td>\n",
       "      <td>1.589417</td>\n",
       "      <td>1.77443</td>\n",
       "      <td>3.819876</td>\n",
       "      <td>4.21686</td>\n",
       "      <td>11.360248</td>\n",
       "      <td>4.639752</td>\n",
       "      <td>0.180124</td>\n",
       "      <td>11.597003</td>\n",
       "      <td>11.867619</td>\n",
       "      <td>0.270616</td>\n",
       "    </tr>\n",
       "  </tbody>\n",
       "</table>\n",
       "<p>5 rows × 47 columns</p>\n",
       "</div>"
      ],
      "text/plain": [
       "   offer_gk  weekday_key  hour_key  driver_gk  order_gk  driver_latitude  \\\n",
       "0   1105373            5        20       6080    174182        55.818842   \n",
       "1    759733            5        14       6080    358774        55.805342   \n",
       "2    416977            6        14       6080    866260        55.813978   \n",
       "3    889660            2         6       6080    163522        55.745922   \n",
       "4   1120055            4        16       6080    506710        55.803578   \n",
       "\n",
       "   driver_longitude  origin_order_latitude  origin_order_longitude  \\\n",
       "0         37.334562              55.814567               37.355010   \n",
       "1         37.515023              55.819329               37.466398   \n",
       "2         37.347688              55.814827               37.354074   \n",
       "3         37.421748              55.743469               37.431130   \n",
       "4         37.521602              55.812559               37.527407   \n",
       "\n",
       "   distance_km       ...        time_to_origin driver_week_std  \\\n",
       "0    15.688855       ...              3.045752         1.77443   \n",
       "1    18.802000       ...              7.425724         1.77443   \n",
       "2     6.747000       ...              1.035233         1.77443   \n",
       "3    19.724066       ...              1.694680         1.77443   \n",
       "4    12.383000       ...              1.589417         1.77443   \n",
       "\n",
       "  driver_week_mean  driver_hour_std  driver_hour_mean  diff_hour  \\\n",
       "0         3.819876          4.21686         11.360248   8.639752   \n",
       "1         3.819876          4.21686         11.360248   2.639752   \n",
       "2         3.819876          4.21686         11.360248   2.639752   \n",
       "3         3.819876          4.21686         11.360248   5.360248   \n",
       "4         3.819876          4.21686         11.360248   4.639752   \n",
       "\n",
       "   diff_weekday  distance_to_center_origin  distance_to_center_driver  \\\n",
       "0      1.180124                  30.014260                  32.314916   \n",
       "1      1.180124                  18.105605                  12.605104   \n",
       "2      2.180124                  30.120575                  30.805613   \n",
       "3      1.819876                  21.118747                  22.150263   \n",
       "4      0.180124                  11.597003                  11.867619   \n",
       "\n",
       "   to_center_dist  \n",
       "0        2.300656  \n",
       "1       -5.500502  \n",
       "2        0.685038  \n",
       "3        1.031517  \n",
       "4        0.270616  \n",
       "\n",
       "[5 rows x 47 columns]"
      ]
     },
     "execution_count": 4,
     "metadata": {},
     "output_type": "execute_result"
    }
   ],
   "source": [
    "data_train_copy.head()"
   ]
  },
  {
   "cell_type": "code",
   "execution_count": 5,
   "metadata": {},
   "outputs": [
    {
     "data": {
      "text/html": [
       "<div>\n",
       "<style>\n",
       "    .dataframe thead tr:only-child th {\n",
       "        text-align: right;\n",
       "    }\n",
       "\n",
       "    .dataframe thead th {\n",
       "        text-align: left;\n",
       "    }\n",
       "\n",
       "    .dataframe tbody tr th {\n",
       "        vertical-align: top;\n",
       "    }\n",
       "</style>\n",
       "<table border=\"1\" class=\"dataframe\">\n",
       "  <thead>\n",
       "    <tr style=\"text-align: right;\">\n",
       "      <th></th>\n",
       "      <th>offer_gk</th>\n",
       "      <th>weekday_key</th>\n",
       "      <th>hour_key</th>\n",
       "      <th>driver_gk</th>\n",
       "      <th>order_gk</th>\n",
       "      <th>driver_latitude</th>\n",
       "      <th>driver_longitude</th>\n",
       "      <th>origin_order_latitude</th>\n",
       "      <th>origin_order_longitude</th>\n",
       "      <th>distance_km</th>\n",
       "      <th>...</th>\n",
       "      <th>time_to_origin</th>\n",
       "      <th>driver_week_std</th>\n",
       "      <th>driver_week_mean</th>\n",
       "      <th>driver_hour_std</th>\n",
       "      <th>driver_hour_mean</th>\n",
       "      <th>diff_hour</th>\n",
       "      <th>diff_weekday</th>\n",
       "      <th>distance_to_center_origin</th>\n",
       "      <th>distance_to_center_driver</th>\n",
       "      <th>to_center_dist</th>\n",
       "    </tr>\n",
       "  </thead>\n",
       "  <tbody>\n",
       "    <tr>\n",
       "      <th>0</th>\n",
       "      <td>152446</td>\n",
       "      <td>5</td>\n",
       "      <td>0</td>\n",
       "      <td>5021</td>\n",
       "      <td>648419</td>\n",
       "      <td>55.763302</td>\n",
       "      <td>37.593368</td>\n",
       "      <td>55.758230</td>\n",
       "      <td>37.613689</td>\n",
       "      <td>17.445000</td>\n",
       "      <td>...</td>\n",
       "      <td>3.211843</td>\n",
       "      <td>2.072660</td>\n",
       "      <td>3.469388</td>\n",
       "      <td>6.607111</td>\n",
       "      <td>13.632653</td>\n",
       "      <td>13.632653</td>\n",
       "      <td>1.530612</td>\n",
       "      <td>0.889991</td>\n",
       "      <td>3.181057</td>\n",
       "      <td>2.291067</td>\n",
       "    </tr>\n",
       "    <tr>\n",
       "      <th>1</th>\n",
       "      <td>281031</td>\n",
       "      <td>5</td>\n",
       "      <td>7</td>\n",
       "      <td>5817</td>\n",
       "      <td>405907</td>\n",
       "      <td>55.755470</td>\n",
       "      <td>37.648689</td>\n",
       "      <td>55.741544</td>\n",
       "      <td>37.622868</td>\n",
       "      <td>12.661445</td>\n",
       "      <td>...</td>\n",
       "      <td>6.555218</td>\n",
       "      <td>2.053035</td>\n",
       "      <td>3.166667</td>\n",
       "      <td>7.413794</td>\n",
       "      <td>11.370370</td>\n",
       "      <td>4.370370</td>\n",
       "      <td>1.833333</td>\n",
       "      <td>1.176091</td>\n",
       "      <td>3.051749</td>\n",
       "      <td>1.875658</td>\n",
       "    </tr>\n",
       "    <tr>\n",
       "      <th>2</th>\n",
       "      <td>779964</td>\n",
       "      <td>5</td>\n",
       "      <td>1</td>\n",
       "      <td>3870</td>\n",
       "      <td>894998</td>\n",
       "      <td>55.619002</td>\n",
       "      <td>37.596140</td>\n",
       "      <td>55.615923</td>\n",
       "      <td>37.607872</td>\n",
       "      <td>19.761181</td>\n",
       "      <td>...</td>\n",
       "      <td>1.964883</td>\n",
       "      <td>1.966840</td>\n",
       "      <td>3.146119</td>\n",
       "      <td>7.039667</td>\n",
       "      <td>13.826484</td>\n",
       "      <td>12.826484</td>\n",
       "      <td>1.853881</td>\n",
       "      <td>12.341621</td>\n",
       "      <td>12.300337</td>\n",
       "      <td>-0.041284</td>\n",
       "    </tr>\n",
       "    <tr>\n",
       "      <th>3</th>\n",
       "      <td>16720</td>\n",
       "      <td>5</td>\n",
       "      <td>13</td>\n",
       "      <td>5607</td>\n",
       "      <td>505054</td>\n",
       "      <td>55.620905</td>\n",
       "      <td>37.606550</td>\n",
       "      <td>55.614517</td>\n",
       "      <td>37.591161</td>\n",
       "      <td>14.576858</td>\n",
       "      <td>...</td>\n",
       "      <td>2.713209</td>\n",
       "      <td>1.706125</td>\n",
       "      <td>3.366412</td>\n",
       "      <td>4.844245</td>\n",
       "      <td>15.625954</td>\n",
       "      <td>2.625954</td>\n",
       "      <td>1.633588</td>\n",
       "      <td>12.819306</td>\n",
       "      <td>11.924271</td>\n",
       "      <td>-0.895035</td>\n",
       "    </tr>\n",
       "    <tr>\n",
       "      <th>4</th>\n",
       "      <td>492087</td>\n",
       "      <td>5</td>\n",
       "      <td>13</td>\n",
       "      <td>3786</td>\n",
       "      <td>459994</td>\n",
       "      <td>55.893228</td>\n",
       "      <td>37.673552</td>\n",
       "      <td>55.888084</td>\n",
       "      <td>37.662087</td>\n",
       "      <td>15.943624</td>\n",
       "      <td>...</td>\n",
       "      <td>1.630200</td>\n",
       "      <td>1.638936</td>\n",
       "      <td>3.370370</td>\n",
       "      <td>6.532634</td>\n",
       "      <td>13.728395</td>\n",
       "      <td>0.728395</td>\n",
       "      <td>1.629630</td>\n",
       "      <td>12.616616</td>\n",
       "      <td>13.535874</td>\n",
       "      <td>0.919258</td>\n",
       "    </tr>\n",
       "  </tbody>\n",
       "</table>\n",
       "<p>5 rows × 47 columns</p>\n",
       "</div>"
      ],
      "text/plain": [
       "   offer_gk  weekday_key  hour_key  driver_gk  order_gk  driver_latitude  \\\n",
       "0    152446            5         0       5021    648419        55.763302   \n",
       "1    281031            5         7       5817    405907        55.755470   \n",
       "2    779964            5         1       3870    894998        55.619002   \n",
       "3     16720            5        13       5607    505054        55.620905   \n",
       "4    492087            5        13       3786    459994        55.893228   \n",
       "\n",
       "   driver_longitude  origin_order_latitude  origin_order_longitude  \\\n",
       "0         37.593368              55.758230               37.613689   \n",
       "1         37.648689              55.741544               37.622868   \n",
       "2         37.596140              55.615923               37.607872   \n",
       "3         37.606550              55.614517               37.591161   \n",
       "4         37.673552              55.888084               37.662087   \n",
       "\n",
       "   distance_km       ...        time_to_origin driver_week_std  \\\n",
       "0    17.445000       ...              3.211843        2.072660   \n",
       "1    12.661445       ...              6.555218        2.053035   \n",
       "2    19.761181       ...              1.964883        1.966840   \n",
       "3    14.576858       ...              2.713209        1.706125   \n",
       "4    15.943624       ...              1.630200        1.638936   \n",
       "\n",
       "  driver_week_mean  driver_hour_std  driver_hour_mean  diff_hour  \\\n",
       "0         3.469388         6.607111         13.632653  13.632653   \n",
       "1         3.166667         7.413794         11.370370   4.370370   \n",
       "2         3.146119         7.039667         13.826484  12.826484   \n",
       "3         3.366412         4.844245         15.625954   2.625954   \n",
       "4         3.370370         6.532634         13.728395   0.728395   \n",
       "\n",
       "   diff_weekday  distance_to_center_origin  distance_to_center_driver  \\\n",
       "0      1.530612                   0.889991                   3.181057   \n",
       "1      1.833333                   1.176091                   3.051749   \n",
       "2      1.853881                  12.341621                  12.300337   \n",
       "3      1.633588                  12.819306                  11.924271   \n",
       "4      1.629630                  12.616616                  13.535874   \n",
       "\n",
       "   to_center_dist  \n",
       "0        2.291067  \n",
       "1        1.875658  \n",
       "2       -0.041284  \n",
       "3       -0.895035  \n",
       "4        0.919258  \n",
       "\n",
       "[5 rows x 47 columns]"
      ]
     },
     "execution_count": 5,
     "metadata": {},
     "output_type": "execute_result"
    }
   ],
   "source": [
    "data_test_copy.head()"
   ]
  },
  {
   "cell_type": "code",
   "execution_count": 6,
   "metadata": {},
   "outputs": [
    {
     "data": {
      "text/plain": [
       "((892557, 47), (237813, 47))"
      ]
     },
     "execution_count": 6,
     "metadata": {},
     "output_type": "execute_result"
    }
   ],
   "source": [
    "data_train_copy.shape, data_test_copy.shape"
   ]
  },
  {
   "cell_type": "markdown",
   "metadata": {},
   "source": [
    "### МОДЕЛИ"
   ]
  },
  {
   "cell_type": "markdown",
   "metadata": {},
   "source": [
    " "
   ]
  },
  {
   "cell_type": "code",
   "execution_count": 7,
   "metadata": {
    "scrolled": false
   },
   "outputs": [
    {
     "data": {
      "text/html": [
       "<div>\n",
       "<style>\n",
       "    .dataframe thead tr:only-child th {\n",
       "        text-align: right;\n",
       "    }\n",
       "\n",
       "    .dataframe thead th {\n",
       "        text-align: left;\n",
       "    }\n",
       "\n",
       "    .dataframe tbody tr th {\n",
       "        vertical-align: top;\n",
       "    }\n",
       "</style>\n",
       "<table border=\"1\" class=\"dataframe\">\n",
       "  <thead>\n",
       "    <tr style=\"text-align: right;\">\n",
       "      <th></th>\n",
       "      <th>weekday_key</th>\n",
       "      <th>hour_key</th>\n",
       "      <th>driver_latitude</th>\n",
       "      <th>driver_longitude</th>\n",
       "      <th>origin_order_latitude</th>\n",
       "      <th>origin_order_longitude</th>\n",
       "      <th>distance_km</th>\n",
       "      <th>duration_min</th>\n",
       "      <th>offer_class_group</th>\n",
       "      <th>ride_type_desc</th>\n",
       "      <th>...</th>\n",
       "      <th>time_to_origin</th>\n",
       "      <th>driver_week_std</th>\n",
       "      <th>driver_week_mean</th>\n",
       "      <th>driver_hour_std</th>\n",
       "      <th>driver_hour_mean</th>\n",
       "      <th>diff_hour</th>\n",
       "      <th>diff_weekday</th>\n",
       "      <th>distance_to_center_origin</th>\n",
       "      <th>distance_to_center_driver</th>\n",
       "      <th>to_center_dist</th>\n",
       "    </tr>\n",
       "  </thead>\n",
       "  <tbody>\n",
       "    <tr>\n",
       "      <th>0</th>\n",
       "      <td>5</td>\n",
       "      <td>20</td>\n",
       "      <td>55.818842</td>\n",
       "      <td>37.334562</td>\n",
       "      <td>55.814567</td>\n",
       "      <td>37.355010</td>\n",
       "      <td>15.688855</td>\n",
       "      <td>20.768587</td>\n",
       "      <td>Economy</td>\n",
       "      <td>private</td>\n",
       "      <td>...</td>\n",
       "      <td>3.045752</td>\n",
       "      <td>1.77443</td>\n",
       "      <td>3.819876</td>\n",
       "      <td>4.21686</td>\n",
       "      <td>11.360248</td>\n",
       "      <td>8.639752</td>\n",
       "      <td>1.180124</td>\n",
       "      <td>30.014260</td>\n",
       "      <td>32.314916</td>\n",
       "      <td>2.300656</td>\n",
       "    </tr>\n",
       "    <tr>\n",
       "      <th>1</th>\n",
       "      <td>5</td>\n",
       "      <td>14</td>\n",
       "      <td>55.805342</td>\n",
       "      <td>37.515023</td>\n",
       "      <td>55.819329</td>\n",
       "      <td>37.466398</td>\n",
       "      <td>18.802000</td>\n",
       "      <td>25.217000</td>\n",
       "      <td>Standard</td>\n",
       "      <td>private</td>\n",
       "      <td>...</td>\n",
       "      <td>7.425724</td>\n",
       "      <td>1.77443</td>\n",
       "      <td>3.819876</td>\n",
       "      <td>4.21686</td>\n",
       "      <td>11.360248</td>\n",
       "      <td>2.639752</td>\n",
       "      <td>1.180124</td>\n",
       "      <td>18.105605</td>\n",
       "      <td>12.605104</td>\n",
       "      <td>-5.500502</td>\n",
       "    </tr>\n",
       "    <tr>\n",
       "      <th>2</th>\n",
       "      <td>6</td>\n",
       "      <td>14</td>\n",
       "      <td>55.813978</td>\n",
       "      <td>37.347688</td>\n",
       "      <td>55.814827</td>\n",
       "      <td>37.354074</td>\n",
       "      <td>6.747000</td>\n",
       "      <td>9.800000</td>\n",
       "      <td>Economy</td>\n",
       "      <td>private</td>\n",
       "      <td>...</td>\n",
       "      <td>1.035233</td>\n",
       "      <td>1.77443</td>\n",
       "      <td>3.819876</td>\n",
       "      <td>4.21686</td>\n",
       "      <td>11.360248</td>\n",
       "      <td>2.639752</td>\n",
       "      <td>2.180124</td>\n",
       "      <td>30.120575</td>\n",
       "      <td>30.805613</td>\n",
       "      <td>0.685038</td>\n",
       "    </tr>\n",
       "    <tr>\n",
       "      <th>3</th>\n",
       "      <td>2</td>\n",
       "      <td>6</td>\n",
       "      <td>55.745922</td>\n",
       "      <td>37.421748</td>\n",
       "      <td>55.743469</td>\n",
       "      <td>37.431130</td>\n",
       "      <td>19.724066</td>\n",
       "      <td>31.425350</td>\n",
       "      <td>Economy</td>\n",
       "      <td>private</td>\n",
       "      <td>...</td>\n",
       "      <td>1.694680</td>\n",
       "      <td>1.77443</td>\n",
       "      <td>3.819876</td>\n",
       "      <td>4.21686</td>\n",
       "      <td>11.360248</td>\n",
       "      <td>5.360248</td>\n",
       "      <td>1.819876</td>\n",
       "      <td>21.118747</td>\n",
       "      <td>22.150263</td>\n",
       "      <td>1.031517</td>\n",
       "    </tr>\n",
       "    <tr>\n",
       "      <th>4</th>\n",
       "      <td>4</td>\n",
       "      <td>16</td>\n",
       "      <td>55.803578</td>\n",
       "      <td>37.521602</td>\n",
       "      <td>55.812559</td>\n",
       "      <td>37.527407</td>\n",
       "      <td>12.383000</td>\n",
       "      <td>19.250000</td>\n",
       "      <td>Economy</td>\n",
       "      <td>private</td>\n",
       "      <td>...</td>\n",
       "      <td>1.589417</td>\n",
       "      <td>1.77443</td>\n",
       "      <td>3.819876</td>\n",
       "      <td>4.21686</td>\n",
       "      <td>11.360248</td>\n",
       "      <td>4.639752</td>\n",
       "      <td>0.180124</td>\n",
       "      <td>11.597003</td>\n",
       "      <td>11.867619</td>\n",
       "      <td>0.270616</td>\n",
       "    </tr>\n",
       "  </tbody>\n",
       "</table>\n",
       "<p>5 rows × 42 columns</p>\n",
       "</div>"
      ],
      "text/plain": [
       "   weekday_key  hour_key  driver_latitude  driver_longitude  \\\n",
       "0            5        20        55.818842         37.334562   \n",
       "1            5        14        55.805342         37.515023   \n",
       "2            6        14        55.813978         37.347688   \n",
       "3            2         6        55.745922         37.421748   \n",
       "4            4        16        55.803578         37.521602   \n",
       "\n",
       "   origin_order_latitude  origin_order_longitude  distance_km  duration_min  \\\n",
       "0              55.814567               37.355010    15.688855     20.768587   \n",
       "1              55.819329               37.466398    18.802000     25.217000   \n",
       "2              55.814827               37.354074     6.747000      9.800000   \n",
       "3              55.743469               37.431130    19.724066     31.425350   \n",
       "4              55.812559               37.527407    12.383000     19.250000   \n",
       "\n",
       "  offer_class_group ride_type_desc       ...        time_to_origin  \\\n",
       "0           Economy        private       ...              3.045752   \n",
       "1          Standard        private       ...              7.425724   \n",
       "2           Economy        private       ...              1.035233   \n",
       "3           Economy        private       ...              1.694680   \n",
       "4           Economy        private       ...              1.589417   \n",
       "\n",
       "   driver_week_std  driver_week_mean  driver_hour_std  driver_hour_mean  \\\n",
       "0          1.77443          3.819876          4.21686         11.360248   \n",
       "1          1.77443          3.819876          4.21686         11.360248   \n",
       "2          1.77443          3.819876          4.21686         11.360248   \n",
       "3          1.77443          3.819876          4.21686         11.360248   \n",
       "4          1.77443          3.819876          4.21686         11.360248   \n",
       "\n",
       "   diff_hour  diff_weekday  distance_to_center_origin  \\\n",
       "0   8.639752      1.180124                  30.014260   \n",
       "1   2.639752      1.180124                  18.105605   \n",
       "2   2.639752      2.180124                  30.120575   \n",
       "3   5.360248      1.819876                  21.118747   \n",
       "4   4.639752      0.180124                  11.597003   \n",
       "\n",
       "   distance_to_center_driver  to_center_dist  \n",
       "0                  32.314916        2.300656  \n",
       "1                  12.605104       -5.500502  \n",
       "2                  30.805613        0.685038  \n",
       "3                  22.150263        1.031517  \n",
       "4                  11.867619        0.270616  \n",
       "\n",
       "[5 rows x 42 columns]"
      ]
     },
     "execution_count": 7,
     "metadata": {},
     "output_type": "execute_result"
    }
   ],
   "source": [
    "data_for_train = data_train_copy.drop(['offer_gk', 'driver_gk', 'order_gk', 'district_driver_rate', 'driver_response'], axis = 1)\n",
    "data_for_train.head()"
   ]
  },
  {
   "cell_type": "code",
   "execution_count": 8,
   "metadata": {
    "collapsed": true
   },
   "outputs": [],
   "source": [
    "X_train_forest = pd.get_dummies(data_for_train, columns = ['weekday_key', \n",
    "                                                    'hour_key', \n",
    "                                                    'offer_class_group', \n",
    "                                                    'ride_type_desc'])\n",
    "X_train_xgb = pd.get_dummies(data_train_copy[['driver_gk', 'weekday_key', 'hour_key', 'distance_km', 'duration_min',\n",
    "       'offer_class_group', 'ride_type_desc',\n",
    "       'district_origin', 'district_driver', 'distance_to_origin', 'direction',\n",
    "       'distance_manhattan', 'driver_response_rate', 'order_count',\n",
    "       'driver_orders', 'driver_orders_accepted', 'driver_districts',\n",
    "       'driver_origins', 'driver_districts_accepted',\n",
    "       'driver_origins_accepted', 'driver_districts_accepted_rate',\n",
    "       'origin_districts_accepted_rate', 'driver_week_std', 'driver_week_mean',\n",
    "       'driver_hour_std', 'driver_hour_mean', 'diff_hour', 'diff_weekday',\n",
    "                                         'order_speed', 'time_to_origin',\n",
    "                                         'distance_to_center_driver', 'distance_to_center_origin', 'to_center_dist',\n",
    "                                         'driver_latitude', 'driver_longitude',\n",
    "       'origin_order_latitude', 'origin_order_longitude']], columns = ['weekday_key', 'hour_key', 'offer_class_group', \n",
    "                                                                  'ride_type_desc', 'district_origin', 'district_driver'])\n",
    "y_train = data_train_copy['driver_response']"
   ]
  },
  {
   "cell_type": "code",
   "execution_count": 9,
   "metadata": {},
   "outputs": [
    {
     "data": {
      "text/plain": [
       "((892557, 139), (892557,))"
      ]
     },
     "execution_count": 9,
     "metadata": {},
     "output_type": "execute_result"
    }
   ],
   "source": [
    "X_train_xgb.shape, y_train.shape"
   ]
  },
  {
   "cell_type": "code",
   "execution_count": 10,
   "metadata": {
    "collapsed": true
   },
   "outputs": [],
   "source": [
    "data_for_test = data_test_copy.drop(['offer_gk', 'driver_gk', 'order_gk', 'district_driver_rate', 'driver_response'], axis = 1)"
   ]
  },
  {
   "cell_type": "code",
   "execution_count": 11,
   "metadata": {
    "collapsed": true
   },
   "outputs": [],
   "source": [
    "X_test_forest = pd.get_dummies(data_for_test, columns = ['weekday_key', \n",
    "                                                    'hour_key', \n",
    "                                                    'offer_class_group', \n",
    "                                                    'ride_type_desc'])\n",
    "X_test_xgb = pd.get_dummies(data_test_copy[['driver_gk', 'weekday_key', 'hour_key', 'distance_km', 'duration_min',\n",
    "       'offer_class_group', 'ride_type_desc',\n",
    "       'district_origin', 'district_driver', 'distance_to_origin', 'direction',\n",
    "       'distance_manhattan', 'driver_response_rate', 'order_count',\n",
    "       'driver_orders', 'driver_orders_accepted', 'driver_districts',\n",
    "       'driver_origins', 'driver_districts_accepted',\n",
    "       'driver_origins_accepted', 'driver_districts_accepted_rate',\n",
    "       'origin_districts_accepted_rate', 'driver_week_std', 'driver_week_mean',\n",
    "       'driver_hour_std', 'driver_hour_mean', 'diff_hour', 'diff_weekday',\n",
    "                                        'order_speed', 'time_to_origin', \n",
    "                                        'distance_to_center_driver', 'distance_to_center_origin', 'to_center_dist',\n",
    "                                        'driver_latitude', 'driver_longitude',\n",
    "       'origin_order_latitude', 'origin_order_longitude']], columns = ['weekday_key', 'hour_key', 'offer_class_group', \n",
    "                                                                  'ride_type_desc', 'district_origin', 'district_driver'])\n",
    "y_test = data_test_copy['driver_response']"
   ]
  },
  {
   "cell_type": "code",
   "execution_count": 12,
   "metadata": {},
   "outputs": [
    {
     "data": {
      "text/plain": [
       "((237813, 139), (237813,))"
      ]
     },
     "execution_count": 12,
     "metadata": {},
     "output_type": "execute_result"
    }
   ],
   "source": [
    "X_test_xgb.shape, y_test.shape"
   ]
  },
  {
   "cell_type": "markdown",
   "metadata": {},
   "source": [
    "## Model Stacking"
   ]
  },
  {
   "cell_type": "markdown",
   "metadata": {},
   "source": [
    "#### Подготовка данных для моделей, основаных на деревьях"
   ]
  },
  {
   "cell_type": "code",
   "execution_count": 13,
   "metadata": {
    "collapsed": true
   },
   "outputs": [],
   "source": [
    "X_train_models_forest, X_valid_models_forest, y_train_models, y_valid_models = train_test_split(X_train_forest, \n",
    "                                                                                  y_train, \n",
    "                                                                                  test_size=0.3, \n",
    "                                                                                  random_state=17)\n",
    "\n",
    "X_train_stacking_forest, X_valid_stacking_forest, y_train_stacking, y_valid_stacking = train_test_split(X_valid_models_forest, \n",
    "                                                                                  y_valid_models, \n",
    "                                                                                  test_size=0.3, \n",
    "                                                                                  random_state=17)"
   ]
  },
  {
   "cell_type": "code",
   "execution_count": 14,
   "metadata": {
    "collapsed": true
   },
   "outputs": [],
   "source": [
    "X_train_models_xgb, X_valid_models_xgb, y_train_models, y_valid_models = train_test_split(X_train_xgb, \n",
    "                                                                                  y_train, \n",
    "                                                                                  test_size=0.3, \n",
    "                                                                                  random_state=17)\n",
    "\n",
    "X_train_stacking_xgb, X_valid_stacking_xgb, y_train_stacking, y_valid_stacking = train_test_split(X_valid_models_xgb, \n",
    "                                                                                  y_valid_models, \n",
    "                                                                                  test_size=0.3, \n",
    "                                                                                  random_state=17)"
   ]
  },
  {
   "cell_type": "markdown",
   "metadata": {},
   "source": [
    "#### XGBoost на деревьях"
   ]
  },
  {
   "cell_type": "code",
   "execution_count": 54,
   "metadata": {},
   "outputs": [
    {
     "name": "stdout",
     "output_type": "stream",
     "text": [
      "Wall time: 45min 27s\n"
     ]
    }
   ],
   "source": [
    "%%time\n",
    "params = {\n",
    "         'num_round': 500,\n",
    "         'max_depth': 8,\n",
    "         'eta': 0.08,\n",
    "         'objective': \"binary:logistic\",\n",
    "         'nthread' : 4,\n",
    "         'silent' : 1\n",
    "         }\n",
    "dtrain = xgb.DMatrix(X_train_models_xgb, label=y_train_models)\n",
    "clf_xgb_trees_0_7 = xgb.train(params, dtrain, int(params['num_round']))\n",
    "# clf_xgb_trees = xgb.XGBClassifier(max_depth = 8, eta = 0.08, n_estimators = 5, nthread = 4, random_state = 42)\n",
    "# clf_xgb_trees.fit(X_train_models_xgb, y_train_models)"
   ]
  },
  {
   "cell_type": "code",
   "execution_count": 55,
   "metadata": {
    "collapsed": true
   },
   "outputs": [],
   "source": [
    "# pickle.dump(clf_xgb_trees, open(\"clf_xgb_trees_0_7.pickle.dat\", \"wb\"))"
   ]
  },
  {
   "cell_type": "code",
   "execution_count": 56,
   "metadata": {},
   "outputs": [
    {
     "name": "stdout",
     "output_type": "stream",
     "text": [
      "0.940772066475\n"
     ]
    }
   ],
   "source": [
    "dvalid = xgb.DMatrix(X_valid_models_xgb, label=y_valid_models)\n",
    "prediction_xgb_trees = clf_xgb_trees_0_7.predict(dvalid)\n",
    "# prediction_xgb_trees = clf_xgb_trees.predict(X_valid_models_xgb)\n",
    "score_xgb_trees = roc_auc_score(y_valid_models.values, prediction_xgb_trees)\n",
    "print(score_xgb_trees)"
   ]
  },
  {
   "cell_type": "code",
   "execution_count": 57,
   "metadata": {},
   "outputs": [
    {
     "name": "stdout",
     "output_type": "stream",
     "text": [
      "Wall time: 57min 40s\n"
     ]
    }
   ],
   "source": [
    "%%time\n",
    "params = {\n",
    "         'num_round': 500,\n",
    "         'max_depth': 8,\n",
    "         'eta': 0.08,\n",
    "         'objective': \"binary:logistic\",\n",
    "         'nthread' : 4,\n",
    "         'silent' : 1\n",
    "         }\n",
    "dtrain = xgb.DMatrix(X_train_xgb, label=y_train)\n",
    "clf_xgb_trees_10 = xgb.train(params, dtrain, int(params['num_round']))\n",
    "# clf_xgb_trees = xgb.XGBClassifier(max_depth = 8, eta = 0.08, n_estimators = 5, nthread = 4, random_state = 42)\n",
    "# clf_xgb_trees.fit(X_train_models_xgb, y_train_models)"
   ]
  },
  {
   "cell_type": "code",
   "execution_count": 58,
   "metadata": {
    "collapsed": true
   },
   "outputs": [],
   "source": [
    "# pickle.dump(clf_xgb_trees_10, open(\"clf_xgb_trees_1_0.pickle.dat\", \"wb\"))"
   ]
  },
  {
   "cell_type": "markdown",
   "metadata": {},
   "source": [
    "#### RandomForest"
   ]
  },
  {
   "cell_type": "code",
   "execution_count": 15,
   "metadata": {},
   "outputs": [
    {
     "name": "stdout",
     "output_type": "stream",
     "text": [
      "Wall time: 21min 23s\n"
     ]
    }
   ],
   "source": [
    "%%time\n",
    "model_random_forest_0_7 = RandomForestClassifier(n_estimators=350, n_jobs=4, criterion='gini', random_state = 17)\n",
    "model_random_forest_0_7.fit(X_train_models_forest, y_train_models)"
   ]
  },
  {
   "cell_type": "code",
   "execution_count": 17,
   "metadata": {},
   "outputs": [
    {
     "name": "stdout",
     "output_type": "stream",
     "text": [
      "0.937399385565\n"
     ]
    }
   ],
   "source": [
    "prediction_random_forest = model_random_forest_0_7.predict_proba(X_valid_models_forest)[:, 1]\n",
    "score_random_forest = roc_auc_score(y_valid_models.values, prediction_random_forest)\n",
    "print(score_random_forest)"
   ]
  },
  {
   "cell_type": "code",
   "execution_count": null,
   "metadata": {
    "collapsed": true
   },
   "outputs": [],
   "source": [
    "# pickle.dump(model_random_forest_0_7, open(\"model_random_forest_0_7.pickle.dat\", \"wb\"))"
   ]
  },
  {
   "cell_type": "code",
   "execution_count": 42,
   "metadata": {},
   "outputs": [
    {
     "name": "stdout",
     "output_type": "stream",
     "text": [
      "Wall time: 23min 54s\n"
     ]
    }
   ],
   "source": [
    "%%time\n",
    "model_random_forest_1_0 = RandomForestClassifier(n_estimators=350, n_jobs=4, criterion='gini', random_state = 17)\n",
    "model_random_forest_1_0.fit(X_train_forest, y_train)"
   ]
  },
  {
   "cell_type": "markdown",
   "metadata": {},
   "source": [
    "#### Подготовка данных для моделей, основаных на регрессии"
   ]
  },
  {
   "cell_type": "code",
   "execution_count": 18,
   "metadata": {
    "collapsed": true
   },
   "outputs": [],
   "source": [
    "data_for_train_logistic = data_train_copy.drop(['offer_gk', 'driver_gk', 'order_gk', 'district_driver_rate', \n",
    "                                                'driver_response', 'duration_min', 'distance_manhattan'], axis = 1)\n",
    "data_for_test_logistic = data_test_copy.drop(['offer_gk', 'driver_gk', 'order_gk', 'district_driver_rate', \n",
    "                                     'driver_response', 'duration_min', 'distance_manhattan'], axis = 1)"
   ]
  },
  {
   "cell_type": "code",
   "execution_count": 19,
   "metadata": {
    "collapsed": true
   },
   "outputs": [],
   "source": [
    "X_train_for_logistic = pd.get_dummies(data_for_train_logistic, columns = ['weekday_key', \n",
    "                                                                'hour_key', \n",
    "                                                                'offer_class_group', \n",
    "                                                                'ride_type_desc',\n",
    "                                                                'district_origin',\n",
    "                                                                'district_driver'])\n",
    "X_test_for_logistic = pd.get_dummies(data_for_test_logistic, columns = ['weekday_key', \n",
    "                                                                'hour_key', \n",
    "                                                                'offer_class_group', \n",
    "                                                                'ride_type_desc',\n",
    "                                                                'district_origin',\n",
    "                                                                'district_driver'])"
   ]
  },
  {
   "cell_type": "code",
   "execution_count": 20,
   "metadata": {
    "collapsed": true
   },
   "outputs": [],
   "source": [
    "X_train_models_logistic, X_valid_models_logistic, y_train_models, y_valid_models = train_test_split(X_train_for_logistic, \n",
    "                                                                                  y_train, \n",
    "                                                                                  test_size=0.3, \n",
    "                                                                                  random_state=17)"
   ]
  },
  {
   "cell_type": "code",
   "execution_count": 21,
   "metadata": {
    "collapsed": true
   },
   "outputs": [],
   "source": [
    "X_train_stacking_logistic, X_valid_stacking_logistic, y_train_stacking, y_valid_stacking = train_test_split(X_valid_models_logistic, \n",
    "                                                                                  y_valid_models, \n",
    "                                                                                  test_size=0.3, \n",
    "                                                                                  random_state=17)"
   ]
  },
  {
   "cell_type": "code",
   "execution_count": 22,
   "metadata": {},
   "outputs": [
    {
     "data": {
      "text/plain": [
       "(892557, 142)"
      ]
     },
     "execution_count": 22,
     "metadata": {},
     "output_type": "execute_result"
    }
   ],
   "source": [
    "X_train_for_logistic.shape"
   ]
  },
  {
   "cell_type": "code",
   "execution_count": 23,
   "metadata": {},
   "outputs": [
    {
     "data": {
      "text/plain": [
       "(237813, 142)"
      ]
     },
     "execution_count": 23,
     "metadata": {},
     "output_type": "execute_result"
    }
   ],
   "source": [
    "X_test_for_logistic.shape"
   ]
  },
  {
   "cell_type": "markdown",
   "metadata": {},
   "source": [
    "#### XGBoost на регрессии"
   ]
  },
  {
   "cell_type": "code",
   "execution_count": 24,
   "metadata": {},
   "outputs": [
    {
     "name": "stdout",
     "output_type": "stream",
     "text": [
      "Wall time: 7min 58s\n"
     ]
    }
   ],
   "source": [
    "%%time\n",
    "params = {\n",
    "    'num_round': 500,\n",
    "    'booster': 'gblinear',\n",
    "    'lambda': 1,\n",
    "    'alpha': 1,\n",
    "    'objective': \"binary:logistic\",\n",
    "    'nthread' : 4,\n",
    "    'silent' : 1\n",
    "         }\n",
    "dtrain = xgb.DMatrix(X_train_models_logistic, label=y_train_models)\n",
    "dvalid = xgb.DMatrix(X_valid_models_logistic, label=y_valid_models)\n",
    "clf_xgb_linear_0_7 = xgb.train(params, dtrain, int(params['num_round']))"
   ]
  },
  {
   "cell_type": "code",
   "execution_count": 25,
   "metadata": {},
   "outputs": [
    {
     "name": "stdout",
     "output_type": "stream",
     "text": [
      "0.914218164488\n"
     ]
    }
   ],
   "source": [
    "predictions_xgb_linear = clf_xgb_linear_0_7.predict(dvalid)\n",
    "score_xgb_linear = roc_auc_score(y_valid_models.values, predictions_xgb_linear)\n",
    "print(score_xgb_linear)"
   ]
  },
  {
   "cell_type": "code",
   "execution_count": 44,
   "metadata": {},
   "outputs": [
    {
     "name": "stdout",
     "output_type": "stream",
     "text": [
      "Wall time: 8min 53s\n"
     ]
    }
   ],
   "source": [
    "%%time\n",
    "params = {\n",
    "    'num_round': 500,\n",
    "    'booster': 'gblinear',\n",
    "    'lambda': 1,\n",
    "    'alpha': 1,\n",
    "    'objective': \"binary:logistic\",\n",
    "    'nthread' : 4,\n",
    "    'silent' : 1\n",
    "         }\n",
    "dtrain = xgb.DMatrix(X_train_for_logistic, label=y_train)\n",
    "clf_xgb_linear_1_0 = xgb.train(params, dtrain, int(params['num_round']))"
   ]
  },
  {
   "cell_type": "markdown",
   "metadata": {},
   "source": [
    "## Подготовка данных для стекинга"
   ]
  },
  {
   "cell_type": "code",
   "execution_count": 27,
   "metadata": {
    "collapsed": true
   },
   "outputs": [],
   "source": [
    "def prepare_stacking_data(xgb_trees_model, xgb_forest_model, xgb_linear_model, \n",
    "                              data_xgb_trees, data_trees, data_linear, y_labels):\n",
    "    d_trees = xgb.DMatrix(data_xgb_trees, label=y_labels)\n",
    "    prediction_xgb_trees = xgb_trees_model.predict(d_trees)\n",
    "    \n",
    "    prediction_random_forest = xgb_forest_model.predict_proba(data_trees)[:, 1]\n",
    "    \n",
    "    d_linear = xgb.DMatrix(data_linear, label=y_labels)\n",
    "    prediction_xgb_linear = xgb_linear_model.predict(d_linear)\n",
    "    \n",
    "    stacking_data = pd.DataFrame(index = y_labels.index)\n",
    "    stacking_data['xgb_trees'] = prediction_xgb_trees\n",
    "    stacking_data['random_forest'] = prediction_random_forest\n",
    "    stacking_data['xgb_linear'] = prediction_xgb_linear\n",
    "    return stacking_data"
   ]
  },
  {
   "cell_type": "code",
   "execution_count": 30,
   "metadata": {
    "collapsed": true
   },
   "outputs": [],
   "source": [
    "clf_xgb_trees_0_7 = pickle.load(open(\"clf_xgb_trees_0_7.pickle.dat\", \"rb\"))"
   ]
  },
  {
   "cell_type": "code",
   "execution_count": 45,
   "metadata": {
    "collapsed": true
   },
   "outputs": [],
   "source": [
    "clf_xgb_trees_1_0 = pickle.load(open(\"clf_xgb_trees_1_0.pickle.dat\", \"rb\"))"
   ]
  },
  {
   "cell_type": "code",
   "execution_count": 31,
   "metadata": {
    "collapsed": true
   },
   "outputs": [],
   "source": [
    "stacking_train_data = prepare_stacking_data(clf_xgb_trees_0_7, model_random_forest_0_7, clf_xgb_linear_0_7,\n",
    "                                            X_valid_models_xgb, X_valid_models_forest, X_valid_models_logistic, y_valid_models)"
   ]
  },
  {
   "cell_type": "code",
   "execution_count": 36,
   "metadata": {},
   "outputs": [
    {
     "data": {
      "text/plain": [
       "LogisticRegression(C=1, class_weight=None, dual=False, fit_intercept=True,\n",
       "          intercept_scaling=1, max_iter=100, multi_class='ovr', n_jobs=1,\n",
       "          penalty='l2', random_state=17, solver='liblinear', tol=0.0001,\n",
       "          verbose=0, warm_start=False)"
      ]
     },
     "execution_count": 36,
     "metadata": {},
     "output_type": "execute_result"
    }
   ],
   "source": [
    "stacking_linear = LogisticRegression(random_state = 17, C = 1)\n",
    "stacking_linear.fit(stacking_train_data, y_valid_models)"
   ]
  },
  {
   "cell_type": "code",
   "execution_count": 41,
   "metadata": {
    "collapsed": true
   },
   "outputs": [],
   "source": [
    "# pickle.dump(stacking_linear, open(\"stacking_linear.pickle.dat\", \"wb\"))"
   ]
  },
  {
   "cell_type": "code",
   "execution_count": 46,
   "metadata": {
    "collapsed": true
   },
   "outputs": [],
   "source": [
    "stacking_data_test = prepare_stacking_data(clf_xgb_trees_1_0, model_random_forest_1_0, clf_xgb_linear_1_0,\n",
    "                                            X_test_xgb, X_test_forest, X_test_for_logistic, y_test)\n",
    "prediction_stacking = stacking_linear.predict_proba(stacking_data_test)[:, 1]\n",
    "submission = pd.read_csv('McK_SubmissionFormat.csv')\n",
    "submission.driver_response = prediction_stacking\n",
    "submission.to_csv('Stacking_4.csv', index = False)"
   ]
  },
  {
   "cell_type": "code",
   "execution_count": 47,
   "metadata": {},
   "outputs": [
    {
     "data": {
      "text/html": [
       "<div>\n",
       "<style>\n",
       "    .dataframe thead tr:only-child th {\n",
       "        text-align: right;\n",
       "    }\n",
       "\n",
       "    .dataframe thead th {\n",
       "        text-align: left;\n",
       "    }\n",
       "\n",
       "    .dataframe tbody tr th {\n",
       "        vertical-align: top;\n",
       "    }\n",
       "</style>\n",
       "<table border=\"1\" class=\"dataframe\">\n",
       "  <thead>\n",
       "    <tr style=\"text-align: right;\">\n",
       "      <th></th>\n",
       "      <th>offer_gk</th>\n",
       "      <th>driver_response</th>\n",
       "    </tr>\n",
       "  </thead>\n",
       "  <tbody>\n",
       "    <tr>\n",
       "      <th>0</th>\n",
       "      <td>152446</td>\n",
       "      <td>0.957585</td>\n",
       "    </tr>\n",
       "    <tr>\n",
       "      <th>1</th>\n",
       "      <td>281031</td>\n",
       "      <td>0.962028</td>\n",
       "    </tr>\n",
       "    <tr>\n",
       "      <th>2</th>\n",
       "      <td>779964</td>\n",
       "      <td>0.966284</td>\n",
       "    </tr>\n",
       "    <tr>\n",
       "      <th>3</th>\n",
       "      <td>16720</td>\n",
       "      <td>0.965578</td>\n",
       "    </tr>\n",
       "    <tr>\n",
       "      <th>4</th>\n",
       "      <td>492087</td>\n",
       "      <td>0.721087</td>\n",
       "    </tr>\n",
       "  </tbody>\n",
       "</table>\n",
       "</div>"
      ],
      "text/plain": [
       "   offer_gk  driver_response\n",
       "0    152446         0.957585\n",
       "1    281031         0.962028\n",
       "2    779964         0.966284\n",
       "3     16720         0.965578\n",
       "4    492087         0.721087"
      ]
     },
     "execution_count": 47,
     "metadata": {},
     "output_type": "execute_result"
    }
   ],
   "source": [
    "submission.head()"
   ]
  }
 ],
 "metadata": {
  "kernelspec": {
   "display_name": "Python 3",
   "language": "python",
   "name": "python3"
  },
  "language_info": {
   "codemirror_mode": {
    "name": "ipython",
    "version": 3
   },
   "file_extension": ".py",
   "mimetype": "text/x-python",
   "name": "python",
   "nbconvert_exporter": "python",
   "pygments_lexer": "ipython3",
   "version": "3.6.3"
  }
 },
 "nbformat": 4,
 "nbformat_minor": 2
}
